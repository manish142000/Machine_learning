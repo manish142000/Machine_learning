{
 "cells": [
  {
   "cell_type": "code",
   "execution_count": 1,
   "id": "2cef2c4d",
   "metadata": {},
   "outputs": [],
   "source": [
    "import numpy as np\n",
    "import pandas as pd"
   ]
  },
  {
   "cell_type": "code",
   "execution_count": 2,
   "id": "f6bfd1d3",
   "metadata": {},
   "outputs": [
    {
     "data": {
      "text/html": [
       "<div>\n",
       "<style scoped>\n",
       "    .dataframe tbody tr th:only-of-type {\n",
       "        vertical-align: middle;\n",
       "    }\n",
       "\n",
       "    .dataframe tbody tr th {\n",
       "        vertical-align: top;\n",
       "    }\n",
       "\n",
       "    .dataframe thead th {\n",
       "        text-align: right;\n",
       "    }\n",
       "</style>\n",
       "<table border=\"1\" class=\"dataframe\">\n",
       "  <thead>\n",
       "    <tr style=\"text-align: right;\">\n",
       "      <th></th>\n",
       "      <th>ID</th>\n",
       "      <th>season</th>\n",
       "      <th>holiday</th>\n",
       "      <th>workingday</th>\n",
       "      <th>weather</th>\n",
       "      <th>temp</th>\n",
       "      <th>atemp</th>\n",
       "      <th>humidity</th>\n",
       "      <th>windspeed</th>\n",
       "      <th>count</th>\n",
       "    </tr>\n",
       "  </thead>\n",
       "  <tbody>\n",
       "    <tr>\n",
       "      <th>0</th>\n",
       "      <td>AB101</td>\n",
       "      <td>1.0</td>\n",
       "      <td>0.0</td>\n",
       "      <td>0.0</td>\n",
       "      <td>1.0</td>\n",
       "      <td>9.84</td>\n",
       "      <td>14.395</td>\n",
       "      <td>81.0</td>\n",
       "      <td>NaN</td>\n",
       "      <td>16</td>\n",
       "    </tr>\n",
       "    <tr>\n",
       "      <th>1</th>\n",
       "      <td>AB102</td>\n",
       "      <td>1.0</td>\n",
       "      <td>NaN</td>\n",
       "      <td>0.0</td>\n",
       "      <td>NaN</td>\n",
       "      <td>9.02</td>\n",
       "      <td>13.635</td>\n",
       "      <td>80.0</td>\n",
       "      <td>NaN</td>\n",
       "      <td>40</td>\n",
       "    </tr>\n",
       "    <tr>\n",
       "      <th>2</th>\n",
       "      <td>AB103</td>\n",
       "      <td>1.0</td>\n",
       "      <td>0.0</td>\n",
       "      <td>NaN</td>\n",
       "      <td>1.0</td>\n",
       "      <td>9.02</td>\n",
       "      <td>13.635</td>\n",
       "      <td>80.0</td>\n",
       "      <td>NaN</td>\n",
       "      <td>32</td>\n",
       "    </tr>\n",
       "    <tr>\n",
       "      <th>3</th>\n",
       "      <td>AB104</td>\n",
       "      <td>NaN</td>\n",
       "      <td>0.0</td>\n",
       "      <td>NaN</td>\n",
       "      <td>1.0</td>\n",
       "      <td>9.84</td>\n",
       "      <td>14.395</td>\n",
       "      <td>75.0</td>\n",
       "      <td>NaN</td>\n",
       "      <td>13</td>\n",
       "    </tr>\n",
       "    <tr>\n",
       "      <th>4</th>\n",
       "      <td>AB105</td>\n",
       "      <td>1.0</td>\n",
       "      <td>NaN</td>\n",
       "      <td>0.0</td>\n",
       "      <td>NaN</td>\n",
       "      <td>9.84</td>\n",
       "      <td>14.395</td>\n",
       "      <td>NaN</td>\n",
       "      <td>16.9979</td>\n",
       "      <td>1</td>\n",
       "    </tr>\n",
       "  </tbody>\n",
       "</table>\n",
       "</div>"
      ],
      "text/plain": [
       "      ID  season  holiday  workingday  weather  temp   atemp  humidity  \\\n",
       "0  AB101     1.0      0.0         0.0      1.0  9.84  14.395      81.0   \n",
       "1  AB102     1.0      NaN         0.0      NaN  9.02  13.635      80.0   \n",
       "2  AB103     1.0      0.0         NaN      1.0  9.02  13.635      80.0   \n",
       "3  AB104     NaN      0.0         NaN      1.0  9.84  14.395      75.0   \n",
       "4  AB105     1.0      NaN         0.0      NaN  9.84  14.395       NaN   \n",
       "\n",
       "   windspeed  count  \n",
       "0        NaN     16  \n",
       "1        NaN     40  \n",
       "2        NaN     32  \n",
       "3        NaN     13  \n",
       "4    16.9979      1  "
      ]
     },
     "execution_count": 2,
     "metadata": {},
     "output_type": "execute_result"
    }
   ],
   "source": [
    "data = pd.read_csv('missing_value_ratio.csv')\n",
    "data.head()"
   ]
  },
  {
   "cell_type": "code",
   "execution_count": 3,
   "id": "4e9f139c",
   "metadata": {},
   "outputs": [
    {
     "data": {
      "text/plain": [
       "(12980, 10)"
      ]
     },
     "execution_count": 3,
     "metadata": {},
     "output_type": "execute_result"
    }
   ],
   "source": [
    "data.shape"
   ]
  },
  {
   "cell_type": "code",
   "execution_count": 4,
   "id": "3e140264",
   "metadata": {},
   "outputs": [
    {
     "data": {
      "text/plain": [
       "ID               0\n",
       "season           9\n",
       "holiday       6295\n",
       "workingday       9\n",
       "weather          4\n",
       "temp             0\n",
       "atemp            0\n",
       "humidity         5\n",
       "windspeed     5324\n",
       "count            0\n",
       "dtype: int64"
      ]
     },
     "execution_count": 4,
     "metadata": {},
     "output_type": "execute_result"
    }
   ],
   "source": [
    "data.isnull().sum()"
   ]
  },
  {
   "cell_type": "code",
   "execution_count": 7,
   "id": "a5e3bb85",
   "metadata": {},
   "outputs": [
    {
     "data": {
      "text/plain": [
       "ID             0.000000\n",
       "season         0.069337\n",
       "holiday       48.497689\n",
       "workingday     0.069337\n",
       "weather        0.030817\n",
       "temp           0.000000\n",
       "atemp          0.000000\n",
       "humidity       0.038521\n",
       "windspeed     41.016949\n",
       "count          0.000000\n",
       "dtype: float64"
      ]
     },
     "execution_count": 7,
     "metadata": {},
     "output_type": "execute_result"
    }
   ],
   "source": [
    "#percentage of missing value\n",
    "a = data.isnull().sum()/len(data) * 100\n",
    "a"
   ]
  },
  {
   "cell_type": "code",
   "execution_count": 6,
   "id": "e3ff0cc7",
   "metadata": {},
   "outputs": [],
   "source": [
    "variables = data.columns"
   ]
  },
  {
   "cell_type": "code",
   "execution_count": 8,
   "id": "1d9d726f",
   "metadata": {},
   "outputs": [
    {
     "data": {
      "text/plain": [
       "['ID', 'season', 'workingday', 'weather', 'temp', 'atemp', 'humidity', 'count']"
      ]
     },
     "execution_count": 8,
     "metadata": {},
     "output_type": "execute_result"
    }
   ],
   "source": [
    "final_variables = []\n",
    "for i in range(len(variables)):\n",
    "    if a[i] <= 40:\n",
    "        final_variables.append(variables[i])\n",
    "\n",
    "final_variables"
   ]
  },
  {
   "cell_type": "code",
   "execution_count": 9,
   "id": "7a5406cd",
   "metadata": {},
   "outputs": [
    {
     "data": {
      "text/plain": [
       "(12980, 8)"
      ]
     },
     "execution_count": 9,
     "metadata": {},
     "output_type": "execute_result"
    }
   ],
   "source": [
    "final_Data = data[final_variables]\n",
    "final_Data.shape"
   ]
  },
  {
   "cell_type": "code",
   "execution_count": 10,
   "id": "f17d414d",
   "metadata": {},
   "outputs": [
    {
     "data": {
      "text/plain": [
       "ID            0.000000\n",
       "season        0.069337\n",
       "workingday    0.069337\n",
       "weather       0.030817\n",
       "temp          0.000000\n",
       "atemp         0.000000\n",
       "humidity      0.038521\n",
       "count         0.000000\n",
       "dtype: float64"
      ]
     },
     "execution_count": 10,
     "metadata": {},
     "output_type": "execute_result"
    }
   ],
   "source": [
    "final_Data.isnull().sum()/len(final_Data) * 100"
   ]
  }
 ],
 "metadata": {
  "kernelspec": {
   "display_name": "Python 3",
   "language": "python",
   "name": "python3"
  },
  "language_info": {
   "codemirror_mode": {
    "name": "ipython",
    "version": 3
   },
   "file_extension": ".py",
   "mimetype": "text/x-python",
   "name": "python",
   "nbconvert_exporter": "python",
   "pygments_lexer": "ipython3",
   "version": "3.8.8"
  }
 },
 "nbformat": 4,
 "nbformat_minor": 5
}
