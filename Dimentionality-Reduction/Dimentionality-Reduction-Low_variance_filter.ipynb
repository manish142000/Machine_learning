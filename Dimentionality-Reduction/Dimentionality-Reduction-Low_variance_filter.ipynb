{
 "cells": [
  {
   "cell_type": "code",
   "execution_count": 1,
   "id": "d603ce6c",
   "metadata": {},
   "outputs": [],
   "source": [
    "import numpy as np\n",
    "import pandas as pd\n",
    "from sklearn.preprocessing import normalize"
   ]
  },
  {
   "cell_type": "code",
   "execution_count": 2,
   "id": "ecd0d0f3",
   "metadata": {},
   "outputs": [
    {
     "data": {
      "text/html": [
       "<div>\n",
       "<style scoped>\n",
       "    .dataframe tbody tr th:only-of-type {\n",
       "        vertical-align: middle;\n",
       "    }\n",
       "\n",
       "    .dataframe tbody tr th {\n",
       "        vertical-align: top;\n",
       "    }\n",
       "\n",
       "    .dataframe thead th {\n",
       "        text-align: right;\n",
       "    }\n",
       "</style>\n",
       "<table border=\"1\" class=\"dataframe\">\n",
       "  <thead>\n",
       "    <tr style=\"text-align: right;\">\n",
       "      <th></th>\n",
       "      <th>ID</th>\n",
       "      <th>temp</th>\n",
       "      <th>atemp</th>\n",
       "      <th>humidity</th>\n",
       "      <th>windspeed</th>\n",
       "      <th>count</th>\n",
       "    </tr>\n",
       "  </thead>\n",
       "  <tbody>\n",
       "    <tr>\n",
       "      <th>0</th>\n",
       "      <td>AB101</td>\n",
       "      <td>9.84</td>\n",
       "      <td>14.395</td>\n",
       "      <td>81</td>\n",
       "      <td>0.0</td>\n",
       "      <td>16</td>\n",
       "    </tr>\n",
       "    <tr>\n",
       "      <th>1</th>\n",
       "      <td>AB102</td>\n",
       "      <td>9.02</td>\n",
       "      <td>13.635</td>\n",
       "      <td>80</td>\n",
       "      <td>0.0</td>\n",
       "      <td>40</td>\n",
       "    </tr>\n",
       "    <tr>\n",
       "      <th>2</th>\n",
       "      <td>AB103</td>\n",
       "      <td>9.02</td>\n",
       "      <td>13.635</td>\n",
       "      <td>80</td>\n",
       "      <td>0.0</td>\n",
       "      <td>32</td>\n",
       "    </tr>\n",
       "    <tr>\n",
       "      <th>3</th>\n",
       "      <td>AB104</td>\n",
       "      <td>9.84</td>\n",
       "      <td>14.395</td>\n",
       "      <td>75</td>\n",
       "      <td>0.0</td>\n",
       "      <td>13</td>\n",
       "    </tr>\n",
       "    <tr>\n",
       "      <th>4</th>\n",
       "      <td>AB105</td>\n",
       "      <td>9.84</td>\n",
       "      <td>14.395</td>\n",
       "      <td>75</td>\n",
       "      <td>0.0</td>\n",
       "      <td>1</td>\n",
       "    </tr>\n",
       "  </tbody>\n",
       "</table>\n",
       "</div>"
      ],
      "text/plain": [
       "      ID  temp   atemp  humidity  windspeed  count\n",
       "0  AB101  9.84  14.395        81        0.0     16\n",
       "1  AB102  9.02  13.635        80        0.0     40\n",
       "2  AB103  9.02  13.635        80        0.0     32\n",
       "3  AB104  9.84  14.395        75        0.0     13\n",
       "4  AB105  9.84  14.395        75        0.0      1"
      ]
     },
     "execution_count": 2,
     "metadata": {},
     "output_type": "execute_result"
    }
   ],
   "source": [
    "data = pd.read_csv('low_variance_filter.csv')\n",
    "data.head()"
   ]
  },
  {
   "cell_type": "code",
   "execution_count": 3,
   "id": "df31ed02",
   "metadata": {},
   "outputs": [
    {
     "data": {
      "text/plain": [
       "temp            61.291712\n",
       "atemp           73.137484\n",
       "humidity       398.549141\n",
       "windspeed       69.322053\n",
       "count        25843.419864\n",
       "dtype: float64"
      ]
     },
     "execution_count": 3,
     "metadata": {},
     "output_type": "execute_result"
    }
   ],
   "source": [
    "data.var()"
   ]
  },
  {
   "cell_type": "code",
   "execution_count": 5,
   "id": "7b23ae5e",
   "metadata": {},
   "outputs": [
    {
     "data": {
      "text/plain": [
       "ID            object\n",
       "temp         float64\n",
       "atemp        float64\n",
       "humidity       int64\n",
       "windspeed    float64\n",
       "count          int64\n",
       "dtype: object"
      ]
     },
     "execution_count": 5,
     "metadata": {},
     "output_type": "execute_result"
    }
   ],
   "source": [
    "data.dtypes"
   ]
  },
  {
   "cell_type": "code",
   "execution_count": 6,
   "id": "26c04108",
   "metadata": {},
   "outputs": [
    {
     "data": {
      "text/html": [
       "<div>\n",
       "<style scoped>\n",
       "    .dataframe tbody tr th:only-of-type {\n",
       "        vertical-align: middle;\n",
       "    }\n",
       "\n",
       "    .dataframe tbody tr th {\n",
       "        vertical-align: top;\n",
       "    }\n",
       "\n",
       "    .dataframe thead th {\n",
       "        text-align: right;\n",
       "    }\n",
       "</style>\n",
       "<table border=\"1\" class=\"dataframe\">\n",
       "  <thead>\n",
       "    <tr style=\"text-align: right;\">\n",
       "      <th></th>\n",
       "      <th>temp</th>\n",
       "      <th>atemp</th>\n",
       "      <th>humidity</th>\n",
       "      <th>windspeed</th>\n",
       "      <th>count</th>\n",
       "    </tr>\n",
       "  </thead>\n",
       "  <tbody>\n",
       "    <tr>\n",
       "      <th>0</th>\n",
       "      <td>9.84</td>\n",
       "      <td>14.395</td>\n",
       "      <td>81</td>\n",
       "      <td>0.0</td>\n",
       "      <td>16</td>\n",
       "    </tr>\n",
       "    <tr>\n",
       "      <th>1</th>\n",
       "      <td>9.02</td>\n",
       "      <td>13.635</td>\n",
       "      <td>80</td>\n",
       "      <td>0.0</td>\n",
       "      <td>40</td>\n",
       "    </tr>\n",
       "    <tr>\n",
       "      <th>2</th>\n",
       "      <td>9.02</td>\n",
       "      <td>13.635</td>\n",
       "      <td>80</td>\n",
       "      <td>0.0</td>\n",
       "      <td>32</td>\n",
       "    </tr>\n",
       "    <tr>\n",
       "      <th>3</th>\n",
       "      <td>9.84</td>\n",
       "      <td>14.395</td>\n",
       "      <td>75</td>\n",
       "      <td>0.0</td>\n",
       "      <td>13</td>\n",
       "    </tr>\n",
       "    <tr>\n",
       "      <th>4</th>\n",
       "      <td>9.84</td>\n",
       "      <td>14.395</td>\n",
       "      <td>75</td>\n",
       "      <td>0.0</td>\n",
       "      <td>1</td>\n",
       "    </tr>\n",
       "  </tbody>\n",
       "</table>\n",
       "</div>"
      ],
      "text/plain": [
       "   temp   atemp  humidity  windspeed  count\n",
       "0  9.84  14.395        81        0.0     16\n",
       "1  9.02  13.635        80        0.0     40\n",
       "2  9.02  13.635        80        0.0     32\n",
       "3  9.84  14.395        75        0.0     13\n",
       "4  9.84  14.395        75        0.0      1"
      ]
     },
     "execution_count": 6,
     "metadata": {},
     "output_type": "execute_result"
    }
   ],
   "source": [
    "data.drop(['ID'], axis=1, inplace=True)\n",
    "data.head()"
   ]
  },
  {
   "cell_type": "code",
   "execution_count": 8,
   "id": "81a0b7f2",
   "metadata": {},
   "outputs": [
    {
     "data": {
      "text/plain": [
       "array([[0.11660665, 0.17058463, 0.95987185, 0.        , 0.18960432],\n",
       "       [0.09920313, 0.1499595 , 0.87985039, 0.        , 0.4399252 ],\n",
       "       [0.10285074, 0.15547337, 0.91220166, 0.        , 0.36488066],\n",
       "       ...,\n",
       "       [0.18348526, 0.22739183, 0.3438302 , 0.07093817, 0.88959243],\n",
       "       [0.34846911, 0.43185501, 0.65299089, 0.13472342, 0.49751687],\n",
       "       [0.21927331, 0.24058226, 0.74372424, 0.09193267, 0.5765952 ]])"
      ]
     },
     "execution_count": 8,
     "metadata": {},
     "output_type": "execute_result"
    }
   ],
   "source": [
    "data_normalized = normalize(data)\n",
    "data_normalized"
   ]
  },
  {
   "cell_type": "code",
   "execution_count": 9,
   "id": "4b7c13a6",
   "metadata": {},
   "outputs": [
    {
     "data": {
      "text/plain": [
       "Index(['temp', 'atemp', 'humidity', 'windspeed', 'count'], dtype='object')"
      ]
     },
     "execution_count": 9,
     "metadata": {},
     "output_type": "execute_result"
    }
   ],
   "source": [
    "columns = data.columns\n",
    "columns"
   ]
  },
  {
   "cell_type": "code",
   "execution_count": 11,
   "id": "8fd4d776",
   "metadata": {},
   "outputs": [
    {
     "data": {
      "text/html": [
       "<div>\n",
       "<style scoped>\n",
       "    .dataframe tbody tr th:only-of-type {\n",
       "        vertical-align: middle;\n",
       "    }\n",
       "\n",
       "    .dataframe tbody tr th {\n",
       "        vertical-align: top;\n",
       "    }\n",
       "\n",
       "    .dataframe thead th {\n",
       "        text-align: right;\n",
       "    }\n",
       "</style>\n",
       "<table border=\"1\" class=\"dataframe\">\n",
       "  <thead>\n",
       "    <tr style=\"text-align: right;\">\n",
       "      <th></th>\n",
       "      <th>0</th>\n",
       "      <th>1</th>\n",
       "      <th>2</th>\n",
       "      <th>3</th>\n",
       "      <th>4</th>\n",
       "    </tr>\n",
       "  </thead>\n",
       "  <tbody>\n",
       "    <tr>\n",
       "      <th>0</th>\n",
       "      <td>0.116607</td>\n",
       "      <td>0.170585</td>\n",
       "      <td>0.959872</td>\n",
       "      <td>0.000000</td>\n",
       "      <td>0.189604</td>\n",
       "    </tr>\n",
       "    <tr>\n",
       "      <th>1</th>\n",
       "      <td>0.099203</td>\n",
       "      <td>0.149960</td>\n",
       "      <td>0.879850</td>\n",
       "      <td>0.000000</td>\n",
       "      <td>0.439925</td>\n",
       "    </tr>\n",
       "    <tr>\n",
       "      <th>2</th>\n",
       "      <td>0.102851</td>\n",
       "      <td>0.155473</td>\n",
       "      <td>0.912202</td>\n",
       "      <td>0.000000</td>\n",
       "      <td>0.364881</td>\n",
       "    </tr>\n",
       "    <tr>\n",
       "      <th>3</th>\n",
       "      <td>0.126009</td>\n",
       "      <td>0.184339</td>\n",
       "      <td>0.960431</td>\n",
       "      <td>0.000000</td>\n",
       "      <td>0.166475</td>\n",
       "    </tr>\n",
       "    <tr>\n",
       "      <th>4</th>\n",
       "      <td>0.127781</td>\n",
       "      <td>0.186932</td>\n",
       "      <td>0.973940</td>\n",
       "      <td>0.000000</td>\n",
       "      <td>0.012986</td>\n",
       "    </tr>\n",
       "    <tr>\n",
       "      <th>...</th>\n",
       "      <td>...</td>\n",
       "      <td>...</td>\n",
       "      <td>...</td>\n",
       "      <td>...</td>\n",
       "      <td>...</td>\n",
       "    </tr>\n",
       "    <tr>\n",
       "      <th>12975</th>\n",
       "      <td>0.119080</td>\n",
       "      <td>0.141100</td>\n",
       "      <td>0.132592</td>\n",
       "      <td>0.053662</td>\n",
       "      <td>0.972343</td>\n",
       "    </tr>\n",
       "    <tr>\n",
       "      <th>12976</th>\n",
       "      <td>0.142005</td>\n",
       "      <td>0.167801</td>\n",
       "      <td>0.213451</td>\n",
       "      <td>0.052348</td>\n",
       "      <td>0.950461</td>\n",
       "    </tr>\n",
       "    <tr>\n",
       "      <th>12977</th>\n",
       "      <td>0.183485</td>\n",
       "      <td>0.227392</td>\n",
       "      <td>0.343830</td>\n",
       "      <td>0.070938</td>\n",
       "      <td>0.889592</td>\n",
       "    </tr>\n",
       "    <tr>\n",
       "      <th>12978</th>\n",
       "      <td>0.348469</td>\n",
       "      <td>0.431855</td>\n",
       "      <td>0.652991</td>\n",
       "      <td>0.134723</td>\n",
       "      <td>0.497517</td>\n",
       "    </tr>\n",
       "    <tr>\n",
       "      <th>12979</th>\n",
       "      <td>0.219273</td>\n",
       "      <td>0.240582</td>\n",
       "      <td>0.743724</td>\n",
       "      <td>0.091933</td>\n",
       "      <td>0.576595</td>\n",
       "    </tr>\n",
       "  </tbody>\n",
       "</table>\n",
       "<p>12980 rows × 5 columns</p>\n",
       "</div>"
      ],
      "text/plain": [
       "              0         1         2         3         4\n",
       "0      0.116607  0.170585  0.959872  0.000000  0.189604\n",
       "1      0.099203  0.149960  0.879850  0.000000  0.439925\n",
       "2      0.102851  0.155473  0.912202  0.000000  0.364881\n",
       "3      0.126009  0.184339  0.960431  0.000000  0.166475\n",
       "4      0.127781  0.186932  0.973940  0.000000  0.012986\n",
       "...         ...       ...       ...       ...       ...\n",
       "12975  0.119080  0.141100  0.132592  0.053662  0.972343\n",
       "12976  0.142005  0.167801  0.213451  0.052348  0.950461\n",
       "12977  0.183485  0.227392  0.343830  0.070938  0.889592\n",
       "12978  0.348469  0.431855  0.652991  0.134723  0.497517\n",
       "12979  0.219273  0.240582  0.743724  0.091933  0.576595\n",
       "\n",
       "[12980 rows x 5 columns]"
      ]
     },
     "execution_count": 11,
     "metadata": {},
     "output_type": "execute_result"
    }
   ],
   "source": [
    "data_normalized = pd.DataFrame(data_normalized)\n",
    "data_normalized"
   ]
  },
  {
   "cell_type": "code",
   "execution_count": 12,
   "id": "94a603e9",
   "metadata": {},
   "outputs": [
    {
     "data": {
      "text/plain": [
       "0    0.005877\n",
       "1    0.007977\n",
       "2    0.093491\n",
       "3    0.008756\n",
       "4    0.111977\n",
       "dtype: float64"
      ]
     },
     "execution_count": 12,
     "metadata": {},
     "output_type": "execute_result"
    }
   ],
   "source": [
    "var_of_normalized_data = data_normalized.var()\n",
    "var_of_normalized_data"
   ]
  },
  {
   "cell_type": "code",
   "execution_count": 13,
   "id": "51ce7f0a",
   "metadata": {},
   "outputs": [
    {
     "data": {
      "text/plain": [
       "['atemp', 'humidity', 'windspeed', 'count']"
      ]
     },
     "execution_count": 13,
     "metadata": {},
     "output_type": "execute_result"
    }
   ],
   "source": [
    "final_variables = []\n",
    "#keeping the threshold as 0.006\n",
    "for i in range(len(var_of_normalized_data)):\n",
    "    if var_of_normalized_data[i] >= 0.006:\n",
    "        final_variables.append(columns[i])\n",
    "\n",
    "final_variables"
   ]
  },
  {
   "cell_type": "code",
   "execution_count": 14,
   "id": "c894d591",
   "metadata": {},
   "outputs": [
    {
     "data": {
      "text/html": [
       "<div>\n",
       "<style scoped>\n",
       "    .dataframe tbody tr th:only-of-type {\n",
       "        vertical-align: middle;\n",
       "    }\n",
       "\n",
       "    .dataframe tbody tr th {\n",
       "        vertical-align: top;\n",
       "    }\n",
       "\n",
       "    .dataframe thead th {\n",
       "        text-align: right;\n",
       "    }\n",
       "</style>\n",
       "<table border=\"1\" class=\"dataframe\">\n",
       "  <thead>\n",
       "    <tr style=\"text-align: right;\">\n",
       "      <th></th>\n",
       "      <th>temp</th>\n",
       "      <th>atemp</th>\n",
       "      <th>humidity</th>\n",
       "      <th>windspeed</th>\n",
       "      <th>count</th>\n",
       "    </tr>\n",
       "  </thead>\n",
       "  <tbody>\n",
       "    <tr>\n",
       "      <th>0</th>\n",
       "      <td>9.84</td>\n",
       "      <td>14.395</td>\n",
       "      <td>81</td>\n",
       "      <td>0.0</td>\n",
       "      <td>16</td>\n",
       "    </tr>\n",
       "    <tr>\n",
       "      <th>1</th>\n",
       "      <td>9.02</td>\n",
       "      <td>13.635</td>\n",
       "      <td>80</td>\n",
       "      <td>0.0</td>\n",
       "      <td>40</td>\n",
       "    </tr>\n",
       "    <tr>\n",
       "      <th>2</th>\n",
       "      <td>9.02</td>\n",
       "      <td>13.635</td>\n",
       "      <td>80</td>\n",
       "      <td>0.0</td>\n",
       "      <td>32</td>\n",
       "    </tr>\n",
       "    <tr>\n",
       "      <th>3</th>\n",
       "      <td>9.84</td>\n",
       "      <td>14.395</td>\n",
       "      <td>75</td>\n",
       "      <td>0.0</td>\n",
       "      <td>13</td>\n",
       "    </tr>\n",
       "    <tr>\n",
       "      <th>4</th>\n",
       "      <td>9.84</td>\n",
       "      <td>14.395</td>\n",
       "      <td>75</td>\n",
       "      <td>0.0</td>\n",
       "      <td>1</td>\n",
       "    </tr>\n",
       "  </tbody>\n",
       "</table>\n",
       "</div>"
      ],
      "text/plain": [
       "   temp   atemp  humidity  windspeed  count\n",
       "0  9.84  14.395        81        0.0     16\n",
       "1  9.02  13.635        80        0.0     40\n",
       "2  9.02  13.635        80        0.0     32\n",
       "3  9.84  14.395        75        0.0     13\n",
       "4  9.84  14.395        75        0.0      1"
      ]
     },
     "execution_count": 14,
     "metadata": {},
     "output_type": "execute_result"
    }
   ],
   "source": [
    "final_data = data[columns]\n",
    "final_data.head()"
   ]
  },
  {
   "cell_type": "code",
   "execution_count": 15,
   "id": "4469bfff",
   "metadata": {},
   "outputs": [
    {
     "data": {
      "text/plain": [
       "temp            61.291712\n",
       "atemp           73.137484\n",
       "humidity       398.549141\n",
       "windspeed       69.322053\n",
       "count        25843.419864\n",
       "dtype: float64"
      ]
     },
     "execution_count": 15,
     "metadata": {},
     "output_type": "execute_result"
    }
   ],
   "source": [
    "final_data.var()"
   ]
  },
  {
   "cell_type": "code",
   "execution_count": 16,
   "id": "15e82084",
   "metadata": {},
   "outputs": [
    {
     "data": {
      "text/plain": [
       "((12980, 5), (12980, 5))"
      ]
     },
     "execution_count": 16,
     "metadata": {},
     "output_type": "execute_result"
    }
   ],
   "source": [
    "data.shape, final_data.shape"
   ]
  }
 ],
 "metadata": {
  "kernelspec": {
   "display_name": "Python 3",
   "language": "python",
   "name": "python3"
  },
  "language_info": {
   "codemirror_mode": {
    "name": "ipython",
    "version": 3
   },
   "file_extension": ".py",
   "mimetype": "text/x-python",
   "name": "python",
   "nbconvert_exporter": "python",
   "pygments_lexer": "ipython3",
   "version": "3.8.8"
  }
 },
 "nbformat": 4,
 "nbformat_minor": 5
}
