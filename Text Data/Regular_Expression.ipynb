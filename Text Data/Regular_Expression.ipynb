{
  "nbformat": 4,
  "nbformat_minor": 0,
  "metadata": {
    "colab": {
      "name": "Untitled14.ipynb",
      "provenance": []
    },
    "kernelspec": {
      "name": "python3",
      "display_name": "Python 3"
    },
    "language_info": {
      "name": "python"
    }
  },
  "cells": [
    {
      "cell_type": "markdown",
      "source": [
        "**Extracting Information using Regular Expression**"
      ],
      "metadata": {
        "id": "cxb5IkTT0ask"
      }
    },
    {
      "cell_type": "code",
      "source": [
        "path = \"C:\\Users\\nathan\"\n",
        "print(\"String: \", path)"
      ],
      "metadata": {
        "colab": {
          "base_uri": "https://localhost:8080/",
          "height": 130
        },
        "id": "iA-Lex-P0fdA",
        "outputId": "4571f03c-5f93-4ee5-9619-f73504c43307"
      },
      "execution_count": 2,
      "outputs": [
        {
          "output_type": "error",
          "ename": "SyntaxError",
          "evalue": "ignored",
          "traceback": [
            "\u001b[0;36m  File \u001b[0;32m\"<ipython-input-2-4b74bc6ab3e2>\"\u001b[0;36m, line \u001b[0;32m1\u001b[0m\n\u001b[0;31m    path = \"C:\\Users\\nathan\"\u001b[0m\n\u001b[0m          ^\u001b[0m\n\u001b[0;31mSyntaxError\u001b[0m\u001b[0;31m:\u001b[0m (unicode error) 'unicodeescape' codec can't decode bytes in position 2-3: truncated \\UXXXXXXXX escape\n"
          ]
        }
      ]
    },
    {
      "cell_type": "code",
      "source": [
        "path = r\"C:\\Users\\nathan\"\n",
        "print(\"String: \", path)"
      ],
      "metadata": {
        "colab": {
          "base_uri": "https://localhost:8080/"
        },
        "id": "rDFsWv2i1JV_",
        "outputId": "5c9920ca-5109-4892-c6b3-c22924429f35"
      },
      "execution_count": 3,
      "outputs": [
        {
          "output_type": "stream",
          "name": "stdout",
          "text": [
            "String:  C:\\Users\\nathan\n"
          ]
        }
      ]
    },
    {
      "cell_type": "markdown",
      "source": [
        "Always Use raw strings while dealing with regular expressions\n",
        "\n",
        "Python has built in module to work with regular expression re.\n",
        "\n",
        "1. re.search()\n",
        "2. re.match()\n",
        "3. re.findall()"
      ],
      "metadata": {
        "id": "8CeLLa111tp-"
      }
    },
    {
      "cell_type": "markdown",
      "source": [
        "re.match() returns a match object on success and nothing on failure"
      ],
      "metadata": {
        "id": "wg9Aknnb2WRf"
      }
    },
    {
      "cell_type": "code",
      "source": [
        "import re\n",
        "\n",
        "re1 = re.match('Football', r'Football is the greatest sport of all time') #returns a match object on success. checks if the pattern matches beginning of the string\n",
        "print(re1)\n",
        "\n",
        "re2 = re.match('cricket', r'Football is the greatest sport of all time')\n",
        "print(re2)"
      ],
      "metadata": {
        "colab": {
          "base_uri": "https://localhost:8080/"
        },
        "id": "BMTo1cwP2tnW",
        "outputId": "8e90bbf9-9c95-40a1-ddb3-ea2417b279cd"
      },
      "execution_count": 4,
      "outputs": [
        {
          "output_type": "stream",
          "name": "stdout",
          "text": [
            "<re.Match object; span=(0, 8), match='Football'>\n",
            "None\n"
          ]
        }
      ]
    },
    {
      "cell_type": "code",
      "source": [
        "#group function is used to get the matched expression from the object\n",
        "re1.group()"
      ],
      "metadata": {
        "colab": {
          "base_uri": "https://localhost:8080/",
          "height": 35
        },
        "id": "wK78QqWx3hTO",
        "outputId": "882b38d3-484e-4790-c2ce-c3f02c43ea49"
      },
      "execution_count": 5,
      "outputs": [
        {
          "output_type": "execute_result",
          "data": {
            "application/vnd.google.colaboratory.intrinsic+json": {
              "type": "string"
            },
            "text/plain": [
              "'Football'"
            ]
          },
          "metadata": {},
          "execution_count": 5
        }
      ]
    },
    {
      "cell_type": "markdown",
      "source": [
        "**re.search()**\n",
        "\n",
        "Matches the first occurence of the pattern in the entire string\n"
      ],
      "metadata": {
        "id": "PJESgE7T4R7L"
      }
    },
    {
      "cell_type": "code",
      "source": [
        "#finds the first occurence of founded in the given string\n",
        "re1 = re.search('founded', r'Andrew ng founded Coursera. He also founded deeplearning.ai')\n",
        "print(re1.group())"
      ],
      "metadata": {
        "colab": {
          "base_uri": "https://localhost:8080/"
        },
        "id": "52yT1SE24ceG",
        "outputId": "9389bd93-23f4-482b-89e0-3e0981a3ccd2"
      },
      "execution_count": 6,
      "outputs": [
        {
          "output_type": "stream",
          "name": "stdout",
          "text": [
            "founded\n"
          ]
        }
      ]
    },
    {
      "cell_type": "markdown",
      "source": [
        "**re.findall()**"
      ],
      "metadata": {
        "id": "zg7OWwLp5hMv"
      }
    },
    {
      "cell_type": "code",
      "source": [
        "#returns a list of all occurences of a pattern in the string \n",
        "re1 = re.findall('founded', r'Andrew ng founded Coursera. He also founded deeplearning.ai')\n",
        "re1"
      ],
      "metadata": {
        "colab": {
          "base_uri": "https://localhost:8080/"
        },
        "id": "E4ovSJa55nXU",
        "outputId": "5f3d75e7-d318-4d12-f71e-fcd6e89f9fb8"
      },
      "execution_count": 8,
      "outputs": [
        {
          "output_type": "execute_result",
          "data": {
            "text/plain": [
              "['founded', 'founded']"
            ]
          },
          "metadata": {},
          "execution_count": 8
        }
      ]
    },
    {
      "cell_type": "markdown",
      "source": [
        "**Special Sequences**\n",
        "1. \\A returns a match if a specified pattern is at the beginning of the string"
      ],
      "metadata": {
        "id": "Iq86-1Vg7uZe"
      }
    },
    {
      "cell_type": "code",
      "source": [
        "re1 = re.findall('\\AFootball', r'Football is the greatest sport of All time')\n",
        "re1"
      ],
      "metadata": {
        "colab": {
          "base_uri": "https://localhost:8080/"
        },
        "id": "yyOwHmW98EXu",
        "outputId": "be81ce59-2beb-4636-b489-8860972d755c"
      },
      "execution_count": 9,
      "outputs": [
        {
          "output_type": "execute_result",
          "data": {
            "text/plain": [
              "['Football']"
            ]
          },
          "metadata": {},
          "execution_count": 9
        }
      ]
    },
    {
      "cell_type": "code",
      "source": [
        "re2 = re.findall('\\Athe', r'Football is the greatest sport of All time')\n",
        "re2"
      ],
      "metadata": {
        "colab": {
          "base_uri": "https://localhost:8080/"
        },
        "id": "7ooZC12M8hrZ",
        "outputId": "da67c0ba-ead2-467e-e5f0-a97d1257561c"
      },
      "execution_count": 10,
      "outputs": [
        {
          "output_type": "execute_result",
          "data": {
            "text/plain": [
              "[]"
            ]
          },
          "metadata": {},
          "execution_count": 10
        }
      ]
    },
    {
      "cell_type": "markdown",
      "source": [
        "2. \\b returns a match if the specified pattern is at the beginning or the end of the word"
      ],
      "metadata": {
        "id": "kh8dk7I-8Tlk"
      }
    },
    {
      "cell_type": "code",
      "source": [
        "re1 = re.findall(r'est\\b', r'Football is the greatest sport of All time')\n",
        "re1 "
      ],
      "metadata": {
        "colab": {
          "base_uri": "https://localhost:8080/"
        },
        "id": "o9aDP1og84Lq",
        "outputId": "c63d0440-a1ca-4c8c-e88f-a94b1fe960a8"
      },
      "execution_count": 19,
      "outputs": [
        {
          "output_type": "execute_result",
          "data": {
            "text/plain": [
              "['est']"
            ]
          },
          "metadata": {},
          "execution_count": 19
        }
      ]
    },
    {
      "cell_type": "code",
      "source": [
        "re2 = re.findall(r'all\\b', r'Football is the greatest sport of all time')\n",
        "re2"
      ],
      "metadata": {
        "colab": {
          "base_uri": "https://localhost:8080/"
        },
        "id": "rQUFagFY9BMu",
        "outputId": "d0f5b4d9-01f3-400f-f3bd-4381be3482fe"
      },
      "execution_count": 21,
      "outputs": [
        {
          "output_type": "execute_result",
          "data": {
            "text/plain": [
              "['all', 'all']"
            ]
          },
          "metadata": {},
          "execution_count": 21
        }
      ]
    },
    {
      "cell_type": "markdown",
      "source": [
        "3. \\B returns a match if the specified pattern is present but not at the beginning"
      ],
      "metadata": {
        "id": "QPaWENut-T3p"
      }
    },
    {
      "cell_type": "code",
      "source": [
        "re1 = re.findall(r'\\Bea', r'Football is the greatest sport of all time')\n",
        "re1"
      ],
      "metadata": {
        "colab": {
          "base_uri": "https://localhost:8080/"
        },
        "id": "GBviS1yT-a15",
        "outputId": "64c07512-61dc-4e92-8420-524d3e878253"
      },
      "execution_count": 43,
      "outputs": [
        {
          "output_type": "execute_result",
          "data": {
            "text/plain": [
              "['ea']"
            ]
          },
          "metadata": {},
          "execution_count": 43
        }
      ]
    },
    {
      "cell_type": "markdown",
      "source": [
        "4. \\d Returns a match where the string contains digit"
      ],
      "metadata": {
        "id": "Y2AsTQ7B-_Jd"
      }
    },
    {
      "cell_type": "code",
      "source": [
        "str = r\"2 million monthly visits in Jan'19.\"\n",
        "\n",
        "#checks if the string contains any digit\n",
        "re1 = re.findall(r'\\d', str)\n",
        "\n",
        "print(re1)\n",
        "\n",
        "if re1:\n",
        "  print(\"Yes there is atleast one match\")\n",
        "else:\n",
        "  print(\"No match found\")"
      ],
      "metadata": {
        "colab": {
          "base_uri": "https://localhost:8080/"
        },
        "id": "8uE0tWaH_ZPy",
        "outputId": "f6aecbd5-e08f-4330-e383-46b31f5193af"
      },
      "execution_count": 27,
      "outputs": [
        {
          "output_type": "stream",
          "name": "stdout",
          "text": [
            "['2', '1', '9']\n",
            "Yes there is atleast one match\n"
          ]
        }
      ]
    },
    {
      "cell_type": "markdown",
      "source": [
        "Adding '+' after '\\d' will continue to extract digits till encounters a space"
      ],
      "metadata": {
        "id": "v687zsnwAHul"
      }
    },
    {
      "cell_type": "code",
      "source": [
        "re1 = re.findall(r'\\d+', str)\n",
        "\n",
        "print(re1)\n",
        "\n",
        "if re1:\n",
        "  print(\"Yes there is atleast one match\")\n",
        "else:\n",
        "  print(\"No match found\")"
      ],
      "metadata": {
        "id": "dcBCPtXGAJ7_",
        "outputId": "babde0e4-6949-434f-f34f-56fc025e3874",
        "colab": {
          "base_uri": "https://localhost:8080/"
        }
      },
      "execution_count": 28,
      "outputs": [
        {
          "output_type": "stream",
          "name": "stdout",
          "text": [
            "['2', '19']\n",
            "Yes there is atleast one match\n"
          ]
        }
      ]
    },
    {
      "cell_type": "markdown",
      "source": [
        "5. \\D Returns a match where the string doesnot contain any digit "
      ],
      "metadata": {
        "id": "8nrl9mI8C9iC"
      }
    },
    {
      "cell_type": "code",
      "source": [
        "#check if string doesnot contain any digit\n",
        "\n",
        "re1 = re.findall(r\"\\D\", str)\n",
        "print(re1)\n",
        "\n",
        "if re1:\n",
        "  print(\"Yes, there is a match\")\n",
        "else:\n",
        "  print(\"No Match\")"
      ],
      "metadata": {
        "id": "xh5clrK6DNAs",
        "outputId": "3ecbc282-1566-4657-decf-d7d5852ca94f",
        "colab": {
          "base_uri": "https://localhost:8080/"
        }
      },
      "execution_count": 30,
      "outputs": [
        {
          "output_type": "stream",
          "name": "stdout",
          "text": [
            "[' ', 'm', 'i', 'l', 'l', 'i', 'o', 'n', ' ', 'm', 'o', 'n', 't', 'h', 'l', 'y', ' ', 'v', 'i', 's', 'i', 't', 's', ' ', 'i', 'n', ' ', 'J', 'a', 'n', \"'\", '.']\n",
            "Yes, there is a match\n"
          ]
        }
      ]
    },
    {
      "cell_type": "code",
      "source": [
        "re1 = re.findall(r\"\\D+\", str)\n",
        "print(re1)\n",
        "\n",
        "if re1:\n",
        "  print(\"Yes, there is a match\")\n",
        "else:\n",
        "  print(\"No Match\")"
      ],
      "metadata": {
        "id": "XLkLf_nuDi5f",
        "outputId": "0cc0910a-dcae-4522-fd5c-990391b04555",
        "colab": {
          "base_uri": "https://localhost:8080/"
        }
      },
      "execution_count": 31,
      "outputs": [
        {
          "output_type": "stream",
          "name": "stdout",
          "text": [
            "[\" million monthly visits in Jan'\", '.']\n",
            "Yes, there is a match\n"
          ]
        }
      ]
    },
    {
      "cell_type": "markdown",
      "source": [
        "6. \\w Helps in the extraction of Alphanumeric characters"
      ],
      "metadata": {
        "id": "F84tT2DWEq5f"
      }
    },
    {
      "cell_type": "code",
      "source": [
        "str = r\"2 million monthly visits!\"\n",
        "\n",
        "x = re.findall(\"\\w\",str)\n",
        "\n",
        "print(x)\n",
        "\n",
        "if (x):\n",
        "  print(\"Yes, there is at least one match!\")\n",
        "else:\n",
        "  print(\"No match\")"
      ],
      "metadata": {
        "id": "SsIRHKJHEvX2",
        "outputId": "d439ad21-f8ca-4a3b-91a0-c3a99b69e276",
        "colab": {
          "base_uri": "https://localhost:8080/"
        }
      },
      "execution_count": 40,
      "outputs": [
        {
          "output_type": "stream",
          "name": "stdout",
          "text": [
            "['2', 'm', 'i', 'l', 'l', 'i', 'o', 'n', 'm', 'o', 'n', 't', 'h', 'l', 'y', 'v', 'i', 's', 'i', 't', 's']\n",
            "Yes, there is at least one match!\n"
          ]
        }
      ]
    },
    {
      "cell_type": "code",
      "source": [
        "x = re.findall(\"\\w+\",str)\n",
        "\n",
        "print(x)\n",
        "\n",
        "if (x):\n",
        "  print(\"Yes, there is at least one match!\")\n",
        "else:\n",
        "  print(\"No match\")"
      ],
      "metadata": {
        "id": "2AxbYy__FMcV",
        "outputId": "98ad2215-5b38-4f3d-e40d-3307c444227a",
        "colab": {
          "base_uri": "https://localhost:8080/"
        }
      },
      "execution_count": 41,
      "outputs": [
        {
          "output_type": "stream",
          "name": "stdout",
          "text": [
            "['2', 'million', 'monthly', 'visits']\n",
            "Yes, there is at least one match!\n"
          ]
        }
      ]
    },
    {
      "cell_type": "markdown",
      "source": [
        "7. \\W returns match at every non alphanumeric character"
      ],
      "metadata": {
        "id": "SeggTNDvHEjn"
      }
    },
    {
      "cell_type": "code",
      "source": [
        "x = re.findall(\"\\W\", str)\n",
        "\n",
        "print(x)\n",
        "\n",
        "if x:\n",
        "  print(\"Yes, there is at least one match!\")\n",
        "else:\n",
        "  print(\"No match\")"
      ],
      "metadata": {
        "id": "km2Cy6WpHJpP",
        "outputId": "fcc8189d-774e-4eb8-ab43-7df45504c714",
        "colab": {
          "base_uri": "https://localhost:8080/"
        }
      },
      "execution_count": 42,
      "outputs": [
        {
          "output_type": "stream",
          "name": "stdout",
          "text": [
            "[' ', ' ', ' ', '!']\n",
            "Yes, there is at least one match!\n"
          ]
        }
      ]
    },
    {
      "cell_type": "markdown",
      "source": [
        "**Metacharacters**"
      ],
      "metadata": {
        "id": "JGG7kbyaJYZt"
      }
    },
    {
      "cell_type": "markdown",
      "source": [
        "Characters with special meaning\n",
        "\n",
        "1. (.) matches any character except newline"
      ],
      "metadata": {
        "id": "HSBOfvIQJjmz"
      }
    },
    {
      "cell_type": "code",
      "source": [
        "str = r\"Sab Moh Maya hai\"\n",
        "\n",
        "re1 = re.findall('M..', str)\n",
        "\n",
        "print(re1)"
      ],
      "metadata": {
        "id": "Qmp7oJnyJr0u",
        "outputId": "2d9fb1d3-d27c-4405-a42d-1a6698e591ef",
        "colab": {
          "base_uri": "https://localhost:8080/"
        }
      },
      "execution_count": 44,
      "outputs": [
        {
          "output_type": "stream",
          "name": "stdout",
          "text": [
            "['Moh', 'May']\n"
          ]
        }
      ]
    },
    {
      "cell_type": "markdown",
      "source": [
        "2. (^) -> Checks if the string starts with "
      ],
      "metadata": {
        "id": "fRQ5JwZUKgZb"
      }
    },
    {
      "cell_type": "code",
      "source": [
        "re1 = re.findall('^Sab', str)\n",
        "\n",
        "if re1:\n",
        "  print(\"The string starts with \", re1[0])\n",
        "else:\n",
        "  print(\"No match\")"
      ],
      "metadata": {
        "id": "GR38sG3zKnAf",
        "outputId": "31712aa3-3571-4134-fdda-e50be21eb947",
        "colab": {
          "base_uri": "https://localhost:8080/"
        }
      },
      "execution_count": 45,
      "outputs": [
        {
          "output_type": "stream",
          "name": "stdout",
          "text": [
            "The string starts with  Sab\n"
          ]
        }
      ]
    },
    {
      "cell_type": "code",
      "source": [
        "re2 = re.findall(\"^Data\", r'Big Data')\n",
        "\n",
        "if re2:\n",
        "  print(\"The string starts with \", re2[0])\n",
        "else:\n",
        "  print(\"No match\")"
      ],
      "metadata": {
        "id": "EarBfjexK-vm",
        "outputId": "d04419dd-3bab-4faf-e52e-2d6bf8ce7648",
        "colab": {
          "base_uri": "https://localhost:8080/"
        }
      },
      "execution_count": 46,
      "outputs": [
        {
          "output_type": "stream",
          "name": "stdout",
          "text": [
            "No match\n"
          ]
        }
      ]
    },
    {
      "cell_type": "markdown",
      "source": [
        "3. ($) checks if the string ends with "
      ],
      "metadata": {
        "id": "JaIiB0abMIUv"
      }
    },
    {
      "cell_type": "code",
      "source": [
        "re1 = re.findall(\"Science$\", r'Data Science')\n",
        "\n",
        "if re1:\n",
        "  print(\"The string ends with \", re1[0])\n",
        "else:\n",
        "  print(\"No match\")"
      ],
      "metadata": {
        "id": "_vUCScUUMQh7",
        "outputId": "fc4824c6-605b-4011-ba7b-dd9d33609ba6",
        "colab": {
          "base_uri": "https://localhost:8080/"
        }
      },
      "execution_count": 48,
      "outputs": [
        {
          "output_type": "stream",
          "name": "stdout",
          "text": [
            "The string ends with  Science\n"
          ]
        }
      ]
    },
    {
      "cell_type": "markdown",
      "source": [
        "4. (*) Matches for 0 or more occurences of pattern to left of it"
      ],
      "metadata": {
        "id": "gKQVjo1QMs4W"
      }
    },
    {
      "cell_type": "code",
      "source": [
        "#checks if the string contains ea followed by 0 or more occurences of s and then y\n",
        "re1 = re.findall(\"eas*y\", r'easy easssy eay ey')\n",
        "\n",
        "print(re1)\n",
        "\n",
        "if re1:\n",
        "  print(\"There is atleast 1 match\")\n",
        "else:\n",
        "  print(\"No match\")"
      ],
      "metadata": {
        "id": "d6ce2rVNMti-",
        "outputId": "96573bb0-ec92-4b41-9fe4-3bf93f78d9a6",
        "colab": {
          "base_uri": "https://localhost:8080/"
        }
      },
      "execution_count": 53,
      "outputs": [
        {
          "output_type": "stream",
          "name": "stdout",
          "text": [
            "['easy', 'easssy', 'eay']\n",
            "There is atleast 1 match\n"
          ]
        }
      ]
    },
    {
      "cell_type": "code",
      "source": [
        "#checks if the string contains ea followed by 1 or more occurences of s and then y\n",
        "re2 = re.findall(\"eas+y\", r\"easy easssy eay ey\")\n",
        "\n",
        "print(re2)\n",
        "\n",
        "if re2:\n",
        "  print(\"There is atleast 1 match\")\n",
        "else:\n",
        "  print(\"No match\")"
      ],
      "metadata": {
        "id": "_TWll1EpNW3T",
        "outputId": "bd7949b7-97e8-42a3-c79d-8020f01966d8",
        "colab": {
          "base_uri": "https://localhost:8080/"
        }
      },
      "execution_count": 54,
      "outputs": [
        {
          "output_type": "stream",
          "name": "stdout",
          "text": [
            "['easy', 'easssy']\n",
            "There is atleast 1 match\n"
          ]
        }
      ]
    },
    {
      "cell_type": "markdown",
      "source": [
        "6. (?) Matches 0 or 1 occurence of character to the left of it "
      ],
      "metadata": {
        "id": "fE1KxYcdOi31"
      }
    },
    {
      "cell_type": "code",
      "source": [
        "re1 = re.findall(\"eas?y\", r\"easy easssy eay ey\")\n",
        "\n",
        "print(re1)\n",
        "\n",
        "if re1:\n",
        "  print(\"There is atleast 1 match\")\n",
        "else:\n",
        "  print(\"No match\")"
      ],
      "metadata": {
        "id": "dVA1dE9DOxPI",
        "outputId": "7f60e1f2-d8bb-446d-e59e-c0bb31061497",
        "colab": {
          "base_uri": "https://localhost:8080/"
        }
      },
      "execution_count": 55,
      "outputs": [
        {
          "output_type": "stream",
          "name": "stdout",
          "text": [
            "['easy', 'eay']\n",
            "There is atleast 1 match\n"
          ]
        }
      ]
    },
    {
      "cell_type": "markdown",
      "source": [
        "7. (|) either or "
      ],
      "metadata": {
        "id": "Q35KpYIGPHGj"
      }
    },
    {
      "cell_type": "code",
      "source": [
        "#checks if either Data or science is present in the string\n",
        "re1 = re.findall(\"Data|science\", r\"Data science\")\n",
        "\n",
        "print(re1)\n",
        "\n",
        "if re1:\n",
        "  print(\"There is atleast 1 match\")\n",
        "else:\n",
        "  print(\"No match\")\n"
      ],
      "metadata": {
        "id": "NeGe3Nv6PLPD",
        "outputId": "574b1126-efdb-433a-c873-f4ff0d8a3516",
        "colab": {
          "base_uri": "https://localhost:8080/"
        }
      },
      "execution_count": 57,
      "outputs": [
        {
          "output_type": "stream",
          "name": "stdout",
          "text": [
            "['Data', 'science']\n",
            "There is atleast 1 match\n"
          ]
        }
      ]
    },
    {
      "cell_type": "markdown",
      "source": [
        "**Sets**"
      ],
      "metadata": {
        "id": "osfvoda5Qc5-"
      }
    },
    {
      "cell_type": "code",
      "source": [
        "re1 = re.findall(\"[alesr]\", r\"Football is the greatest sport of all time\")\n",
        "\n",
        "print(re1)\n",
        "\n",
        "if re1:\n",
        "  print(\"There is atleast 1 match\")\n",
        "else:\n",
        "  print(\"No match\")"
      ],
      "metadata": {
        "id": "aZFqECIOQvAh",
        "outputId": "950a6bbc-90ea-431a-8771-0f8b59b67ad8",
        "colab": {
          "base_uri": "https://localhost:8080/"
        }
      },
      "execution_count": 58,
      "outputs": [
        {
          "output_type": "stream",
          "name": "stdout",
          "text": [
            "['a', 'l', 'l', 's', 'e', 'r', 'e', 'a', 'e', 's', 's', 'r', 'a', 'l', 'l', 'e']\n",
            "There is atleast 1 match\n"
          ]
        }
      ]
    },
    {
      "cell_type": "code",
      "source": [
        "re2 = re.findall(\"[a-e]\", r\"Football is the greatest sport of all time\")\n",
        "\n",
        "print(re2)\n",
        "\n",
        "if re2:\n",
        "  print(\"There is atleast 1 match\")\n",
        "else:\n",
        "  print(\"No match\")"
      ],
      "metadata": {
        "id": "NUzseyk-RMDd",
        "outputId": "3ee023c0-99de-4f24-a38a-90fbad5b6df5",
        "colab": {
          "base_uri": "https://localhost:8080/"
        }
      },
      "execution_count": 59,
      "outputs": [
        {
          "output_type": "stream",
          "name": "stdout",
          "text": [
            "['b', 'a', 'e', 'e', 'a', 'e', 'a', 'e']\n",
            "There is atleast 1 match\n"
          ]
        }
      ]
    },
    {
      "cell_type": "markdown",
      "source": [
        "**Problems**"
      ],
      "metadata": {
        "id": "J2VncfmDRlNh"
      }
    },
    {
      "cell_type": "code",
      "source": [
        "str = \"Mars' average distance from the Sun is roughly 230 million km and its orbital period is 687 (Earth) days.\"\n",
        "\n",
        "# extract the numbers starting with 0 to 4 from in the above string\n",
        "re1 = re.findall(\"[0-4]\\d+\", str)\n",
        "\n",
        "print(re1)\n",
        "\n",
        "if re1:\n",
        "  print(\"There is atleast 1 match\")\n",
        "else:\n",
        "  print(\"No match\")"
      ],
      "metadata": {
        "id": "lGif85jARpGC",
        "outputId": "84dd7c89-4fff-4764-e1fb-f6885d11b346",
        "colab": {
          "base_uri": "https://localhost:8080/"
        }
      },
      "execution_count": 63,
      "outputs": [
        {
          "output_type": "stream",
          "name": "stdout",
          "text": [
            "['230']\n",
            "There is atleast 1 match\n"
          ]
        }
      ]
    },
    {
      "cell_type": "markdown",
      "source": [
        "2. [^] checks if the string has all the characters other than the specied after ^ in the set"
      ],
      "metadata": {
        "id": "sJ2sflJMT44d"
      }
    },
    {
      "cell_type": "code",
      "source": [
        "str = r\"Apples and oranges\"\n",
        "\n",
        "re1 = re.findall(\"[^ang]\", str)\n",
        "\n",
        "print(re1)\n",
        "\n",
        "if re1:\n",
        "  print(\"There is atleast 1 match\")\n",
        "else:\n",
        "  print(\"No match\")"
      ],
      "metadata": {
        "id": "6TKZeVefUElD",
        "outputId": "975a4c57-19f9-45c2-ccca-b45472e673bb",
        "colab": {
          "base_uri": "https://localhost:8080/"
        }
      },
      "execution_count": 64,
      "outputs": [
        {
          "output_type": "stream",
          "name": "stdout",
          "text": [
            "['A', 'p', 'p', 'l', 'e', 's', ' ', 'd', ' ', 'o', 'r', 'e', 's']\n",
            "There is atleast 1 match\n"
          ]
        }
      ]
    },
    {
      "cell_type": "markdown",
      "source": [
        "3. **[a-zA-Z0-9]** Check whether string has alphanumeric characters"
      ],
      "metadata": {
        "id": "aDQATJ-GUrMU"
      }
    },
    {
      "cell_type": "code",
      "source": [
        "str = r\"!Ah, there is the boat\"\n",
        "\n",
        "# extract words that start with a special character\n",
        "\n",
        "re1 = re.findall(\"[^a-zA-Z0-9 ]\\w+\", str)\n",
        "\n",
        "print(re1)\n",
        "\n",
        "if re1:\n",
        "  print(\"There is atleast 1 match\")\n",
        "else:\n",
        "  print(\"No match\")"
      ],
      "metadata": {
        "id": "MiH4U7izUrrd",
        "outputId": "1a56a83f-1e16-44ba-a53f-7ee5678e9e3e",
        "colab": {
          "base_uri": "https://localhost:8080/"
        }
      },
      "execution_count": 74,
      "outputs": [
        {
          "output_type": "stream",
          "name": "stdout",
          "text": [
            "['!Ah']\n",
            "There is atleast 1 match\n"
          ]
        }
      ]
    },
    {
      "cell_type": "markdown",
      "source": [
        "**Extracting Email Ids**"
      ],
      "metadata": {
        "id": "l9bgyOf4WzPf"
      }
    },
    {
      "cell_type": "code",
      "source": [
        "str = r'Send a mail to rohan.1997@gmail.com, smith_david34@yahoo.com and priya@yahoo.com about the meeting @2PM'\n",
        "  \n",
        "# \\w matches any alpha numeric character \n",
        "# + for repeats a character one or more times \n",
        "\n",
        "x = re.findall(\"[a-zA-Z0-9._-]+@\\w+\\.com\", str)\n",
        "\n",
        "print(x)"
      ],
      "metadata": {
        "id": "MAsG8oJKW2Rw",
        "outputId": "693598db-be61-4588-d765-78b9888bba08",
        "colab": {
          "base_uri": "https://localhost:8080/"
        }
      },
      "execution_count": 82,
      "outputs": [
        {
          "output_type": "stream",
          "name": "stdout",
          "text": [
            "['rohan.1997@gmail.com', 'smith_david34@yahoo.com', 'priya@yahoo.com']\n"
          ]
        }
      ]
    },
    {
      "cell_type": "markdown",
      "source": [
        "**Extracting Dates**"
      ],
      "metadata": {
        "id": "3KJghrOJYptm"
      }
    },
    {
      "cell_type": "code",
      "source": [
        "text = r\"London Olympic 2012 was held from 2012-07-27 to 2012/08/12.\"\n",
        "\n",
        "re.findall(\"\\d{4}.\\d{2}.\\d{2}\", text)"
      ],
      "metadata": {
        "id": "BNnNyeShYtOH",
        "outputId": "7150babc-c0b0-4134-85dc-d52eaeace158",
        "colab": {
          "base_uri": "https://localhost:8080/"
        }
      },
      "execution_count": 83,
      "outputs": [
        {
          "output_type": "execute_result",
          "data": {
            "text/plain": [
              "['2012-07-27', '2012/08/12']"
            ]
          },
          "metadata": {},
          "execution_count": 83
        }
      ]
    },
    {
      "cell_type": "code",
      "source": [
        "text = r\"London Olympic 2012 was held from 27 Jul 2012 to 12-Aug-2012.\"\n",
        "\n",
        "re.findall(\"\\d{2}.\\w+.\\d{4}\", text)"
      ],
      "metadata": {
        "id": "g_F-iu0wZKAI",
        "outputId": "07e4d006-32da-46bf-c552-f2ff2ac50166",
        "colab": {
          "base_uri": "https://localhost:8080/"
        }
      },
      "execution_count": 85,
      "outputs": [
        {
          "output_type": "execute_result",
          "data": {
            "text/plain": [
              "['27 Jul 2012', '12-Aug-2012']"
            ]
          },
          "metadata": {},
          "execution_count": 85
        }
      ]
    },
    {
      "cell_type": "code",
      "source": [
        "# extract dates with varying lengths\n",
        "text = r\"London Olympic 2012 was held from 27 July 2012 to 12 August 2012.\"\n",
        "\n",
        "re.findall(\"\\d{2}.\\w+.\\d{4}\", text)"
      ],
      "metadata": {
        "id": "-6pE2_eYZayk",
        "outputId": "25e4ace7-15a0-4711-ab49-78d1874a6464",
        "colab": {
          "base_uri": "https://localhost:8080/"
        }
      },
      "execution_count": 87,
      "outputs": [
        {
          "output_type": "execute_result",
          "data": {
            "text/plain": [
              "['27 July 2012', '12 August 2012']"
            ]
          },
          "metadata": {},
          "execution_count": 87
        }
      ]
    },
    {
      "cell_type": "markdown",
      "source": [
        "**Extracting Titles from names**"
      ],
      "metadata": {
        "id": "8xfKoCE4aNkr"
      }
    },
    {
      "cell_type": "code",
      "source": [
        "import pandas as pd\n",
        "\n",
        "df = pd.read_csv(\"titanic.csv\")\n",
        "df.head()"
      ],
      "metadata": {
        "id": "YTcAsfX5aSC9",
        "outputId": "ad3fc72c-91be-4db1-a373-a6e1c0389e24",
        "colab": {
          "base_uri": "https://localhost:8080/",
          "height": 285
        }
      },
      "execution_count": 88,
      "outputs": [
        {
          "output_type": "execute_result",
          "data": {
            "text/html": [
              "\n",
              "  <div id=\"df-f2e611d0-a9f3-46ff-a2ba-a145d96e2626\">\n",
              "    <div class=\"colab-df-container\">\n",
              "      <div>\n",
              "<style scoped>\n",
              "    .dataframe tbody tr th:only-of-type {\n",
              "        vertical-align: middle;\n",
              "    }\n",
              "\n",
              "    .dataframe tbody tr th {\n",
              "        vertical-align: top;\n",
              "    }\n",
              "\n",
              "    .dataframe thead th {\n",
              "        text-align: right;\n",
              "    }\n",
              "</style>\n",
              "<table border=\"1\" class=\"dataframe\">\n",
              "  <thead>\n",
              "    <tr style=\"text-align: right;\">\n",
              "      <th></th>\n",
              "      <th>PassengerId</th>\n",
              "      <th>Survived</th>\n",
              "      <th>Pclass</th>\n",
              "      <th>Name</th>\n",
              "      <th>Sex</th>\n",
              "      <th>Age</th>\n",
              "      <th>SibSp</th>\n",
              "      <th>Parch</th>\n",
              "      <th>Ticket</th>\n",
              "      <th>Fare</th>\n",
              "      <th>Cabin</th>\n",
              "      <th>Embarked</th>\n",
              "    </tr>\n",
              "  </thead>\n",
              "  <tbody>\n",
              "    <tr>\n",
              "      <th>0</th>\n",
              "      <td>1</td>\n",
              "      <td>0</td>\n",
              "      <td>3</td>\n",
              "      <td>Braund, Mr. Owen Harris</td>\n",
              "      <td>male</td>\n",
              "      <td>22.0</td>\n",
              "      <td>1</td>\n",
              "      <td>0</td>\n",
              "      <td>A/5 21171</td>\n",
              "      <td>7.2500</td>\n",
              "      <td>NaN</td>\n",
              "      <td>S</td>\n",
              "    </tr>\n",
              "    <tr>\n",
              "      <th>1</th>\n",
              "      <td>2</td>\n",
              "      <td>1</td>\n",
              "      <td>1</td>\n",
              "      <td>Cumings, Mrs. John Bradley (Florence Briggs Th...</td>\n",
              "      <td>female</td>\n",
              "      <td>38.0</td>\n",
              "      <td>1</td>\n",
              "      <td>0</td>\n",
              "      <td>PC 17599</td>\n",
              "      <td>71.2833</td>\n",
              "      <td>C85</td>\n",
              "      <td>C</td>\n",
              "    </tr>\n",
              "    <tr>\n",
              "      <th>2</th>\n",
              "      <td>3</td>\n",
              "      <td>1</td>\n",
              "      <td>3</td>\n",
              "      <td>Heikkinen, Miss. Laina</td>\n",
              "      <td>female</td>\n",
              "      <td>26.0</td>\n",
              "      <td>0</td>\n",
              "      <td>0</td>\n",
              "      <td>STON/O2. 3101282</td>\n",
              "      <td>7.9250</td>\n",
              "      <td>NaN</td>\n",
              "      <td>S</td>\n",
              "    </tr>\n",
              "    <tr>\n",
              "      <th>3</th>\n",
              "      <td>4</td>\n",
              "      <td>1</td>\n",
              "      <td>1</td>\n",
              "      <td>Futrelle, Mrs. Jacques Heath (Lily May Peel)</td>\n",
              "      <td>female</td>\n",
              "      <td>35.0</td>\n",
              "      <td>1</td>\n",
              "      <td>0</td>\n",
              "      <td>113803</td>\n",
              "      <td>53.1000</td>\n",
              "      <td>C123</td>\n",
              "      <td>S</td>\n",
              "    </tr>\n",
              "    <tr>\n",
              "      <th>4</th>\n",
              "      <td>5</td>\n",
              "      <td>0</td>\n",
              "      <td>3</td>\n",
              "      <td>Allen, Mr. William Henry</td>\n",
              "      <td>male</td>\n",
              "      <td>35.0</td>\n",
              "      <td>0</td>\n",
              "      <td>0</td>\n",
              "      <td>373450</td>\n",
              "      <td>8.0500</td>\n",
              "      <td>NaN</td>\n",
              "      <td>S</td>\n",
              "    </tr>\n",
              "  </tbody>\n",
              "</table>\n",
              "</div>\n",
              "      <button class=\"colab-df-convert\" onclick=\"convertToInteractive('df-f2e611d0-a9f3-46ff-a2ba-a145d96e2626')\"\n",
              "              title=\"Convert this dataframe to an interactive table.\"\n",
              "              style=\"display:none;\">\n",
              "        \n",
              "  <svg xmlns=\"http://www.w3.org/2000/svg\" height=\"24px\"viewBox=\"0 0 24 24\"\n",
              "       width=\"24px\">\n",
              "    <path d=\"M0 0h24v24H0V0z\" fill=\"none\"/>\n",
              "    <path d=\"M18.56 5.44l.94 2.06.94-2.06 2.06-.94-2.06-.94-.94-2.06-.94 2.06-2.06.94zm-11 1L8.5 8.5l.94-2.06 2.06-.94-2.06-.94L8.5 2.5l-.94 2.06-2.06.94zm10 10l.94 2.06.94-2.06 2.06-.94-2.06-.94-.94-2.06-.94 2.06-2.06.94z\"/><path d=\"M17.41 7.96l-1.37-1.37c-.4-.4-.92-.59-1.43-.59-.52 0-1.04.2-1.43.59L10.3 9.45l-7.72 7.72c-.78.78-.78 2.05 0 2.83L4 21.41c.39.39.9.59 1.41.59.51 0 1.02-.2 1.41-.59l7.78-7.78 2.81-2.81c.8-.78.8-2.07 0-2.86zM5.41 20L4 18.59l7.72-7.72 1.47 1.35L5.41 20z\"/>\n",
              "  </svg>\n",
              "      </button>\n",
              "      \n",
              "  <style>\n",
              "    .colab-df-container {\n",
              "      display:flex;\n",
              "      flex-wrap:wrap;\n",
              "      gap: 12px;\n",
              "    }\n",
              "\n",
              "    .colab-df-convert {\n",
              "      background-color: #E8F0FE;\n",
              "      border: none;\n",
              "      border-radius: 50%;\n",
              "      cursor: pointer;\n",
              "      display: none;\n",
              "      fill: #1967D2;\n",
              "      height: 32px;\n",
              "      padding: 0 0 0 0;\n",
              "      width: 32px;\n",
              "    }\n",
              "\n",
              "    .colab-df-convert:hover {\n",
              "      background-color: #E2EBFA;\n",
              "      box-shadow: 0px 1px 2px rgba(60, 64, 67, 0.3), 0px 1px 3px 1px rgba(60, 64, 67, 0.15);\n",
              "      fill: #174EA6;\n",
              "    }\n",
              "\n",
              "    [theme=dark] .colab-df-convert {\n",
              "      background-color: #3B4455;\n",
              "      fill: #D2E3FC;\n",
              "    }\n",
              "\n",
              "    [theme=dark] .colab-df-convert:hover {\n",
              "      background-color: #434B5C;\n",
              "      box-shadow: 0px 1px 3px 1px rgba(0, 0, 0, 0.15);\n",
              "      filter: drop-shadow(0px 1px 2px rgba(0, 0, 0, 0.3));\n",
              "      fill: #FFFFFF;\n",
              "    }\n",
              "  </style>\n",
              "\n",
              "      <script>\n",
              "        const buttonEl =\n",
              "          document.querySelector('#df-f2e611d0-a9f3-46ff-a2ba-a145d96e2626 button.colab-df-convert');\n",
              "        buttonEl.style.display =\n",
              "          google.colab.kernel.accessAllowed ? 'block' : 'none';\n",
              "\n",
              "        async function convertToInteractive(key) {\n",
              "          const element = document.querySelector('#df-f2e611d0-a9f3-46ff-a2ba-a145d96e2626');\n",
              "          const dataTable =\n",
              "            await google.colab.kernel.invokeFunction('convertToInteractive',\n",
              "                                                     [key], {});\n",
              "          if (!dataTable) return;\n",
              "\n",
              "          const docLinkHtml = 'Like what you see? Visit the ' +\n",
              "            '<a target=\"_blank\" href=https://colab.research.google.com/notebooks/data_table.ipynb>data table notebook</a>'\n",
              "            + ' to learn more about interactive tables.';\n",
              "          element.innerHTML = '';\n",
              "          dataTable['output_type'] = 'display_data';\n",
              "          await google.colab.output.renderOutput(dataTable, element);\n",
              "          const docLink = document.createElement('div');\n",
              "          docLink.innerHTML = docLinkHtml;\n",
              "          element.appendChild(docLink);\n",
              "        }\n",
              "      </script>\n",
              "    </div>\n",
              "  </div>\n",
              "  "
            ],
            "text/plain": [
              "   PassengerId  Survived  Pclass  ...     Fare Cabin  Embarked\n",
              "0            1         0       3  ...   7.2500   NaN         S\n",
              "1            2         1       1  ...  71.2833   C85         C\n",
              "2            3         1       3  ...   7.9250   NaN         S\n",
              "3            4         1       1  ...  53.1000  C123         S\n",
              "4            5         0       3  ...   8.0500   NaN         S\n",
              "\n",
              "[5 rows x 12 columns]"
            ]
          },
          "metadata": {},
          "execution_count": 88
        }
      ]
    },
    {
      "cell_type": "code",
      "source": [
        "name = \"Allen, Mr. William Henry\"\n",
        "name2 = name.split('.')[0]"
      ],
      "metadata": {
        "id": "ZCP1v99bamnH"
      },
      "execution_count": 92,
      "outputs": []
    },
    {
      "cell_type": "code",
      "source": [
        "final = name2.split(', ')[1]\n",
        "final"
      ],
      "metadata": {
        "id": "s4us3JZVbt-Y",
        "outputId": "0af4904b-42ad-48b1-8c0d-d81730fdf3f2",
        "colab": {
          "base_uri": "https://localhost:8080/",
          "height": 35
        }
      },
      "execution_count": 95,
      "outputs": [
        {
          "output_type": "execute_result",
          "data": {
            "application/vnd.google.colaboratory.intrinsic+json": {
              "type": "string"
            },
            "text/plain": [
              "'Mr'"
            ]
          },
          "metadata": {},
          "execution_count": 95
        }
      ]
    },
    {
      "cell_type": "code",
      "source": [
        "title = df['Name'].apply(lambda x: x.split('.')[0].split(', ')[1])\n",
        "title.value_counts()"
      ],
      "metadata": {
        "id": "Sr-4qpZ_b9EN",
        "outputId": "fd91c9be-fde7-4bd5-973c-5ea7e266313c",
        "colab": {
          "base_uri": "https://localhost:8080/"
        }
      },
      "execution_count": 96,
      "outputs": [
        {
          "output_type": "execute_result",
          "data": {
            "text/plain": [
              "Mr              517\n",
              "Miss            182\n",
              "Mrs             125\n",
              "Master           40\n",
              "Dr                7\n",
              "Rev               6\n",
              "Major             2\n",
              "Mlle              2\n",
              "Col               2\n",
              "Jonkheer          1\n",
              "Sir               1\n",
              "Lady              1\n",
              "Ms                1\n",
              "the Countess      1\n",
              "Capt              1\n",
              "Don               1\n",
              "Mme               1\n",
              "Name: Name, dtype: int64"
            ]
          },
          "metadata": {},
          "execution_count": 96
        }
      ]
    },
    {
      "cell_type": "markdown",
      "source": [
        "This might not work all the time. Another way is by using regex"
      ],
      "metadata": {
        "id": "9EpNQhllcbY7"
      }
    },
    {
      "cell_type": "code",
      "source": [
        "def apply_reg(name):\n",
        "  return re.findall(\"\\w+\\.\", name)[0].split('.')[0]"
      ],
      "metadata": {
        "id": "brwHc9QGcffZ"
      },
      "execution_count": 123,
      "outputs": []
    },
    {
      "cell_type": "code",
      "source": [
        "apply_reg(\"Allen, Mr. William Henry\")"
      ],
      "metadata": {
        "id": "jMiJRJLMd-WI",
        "outputId": "64bebac4-5b2a-4116-e54c-c8130535e304",
        "colab": {
          "base_uri": "https://localhost:8080/",
          "height": 35
        }
      },
      "execution_count": 124,
      "outputs": [
        {
          "output_type": "execute_result",
          "data": {
            "application/vnd.google.colaboratory.intrinsic+json": {
              "type": "string"
            },
            "text/plain": [
              "'Mr'"
            ]
          },
          "metadata": {},
          "execution_count": 124
        }
      ]
    },
    {
      "cell_type": "code",
      "source": [
        "title = df.Name.apply(lambda x: apply_reg(x))\n",
        "title.value_counts()"
      ],
      "metadata": {
        "id": "7_XO6vNleDAm",
        "outputId": "83af3022-fbe5-459f-8356-440ee7ed706f",
        "colab": {
          "base_uri": "https://localhost:8080/"
        }
      },
      "execution_count": 126,
      "outputs": [
        {
          "output_type": "execute_result",
          "data": {
            "text/plain": [
              "Mr          517\n",
              "Miss        182\n",
              "Mrs         125\n",
              "Master       40\n",
              "Dr            7\n",
              "Rev           6\n",
              "Major         2\n",
              "Mlle          2\n",
              "Col           2\n",
              "Jonkheer      1\n",
              "Sir           1\n",
              "Countess      1\n",
              "Ms            1\n",
              "Mme           1\n",
              "Capt          1\n",
              "Don           1\n",
              "Lady          1\n",
              "Name: Name, dtype: int64"
            ]
          },
          "metadata": {},
          "execution_count": 126
        }
      ]
    }
  ]
}