{
 "cells": [
  {
   "cell_type": "code",
   "execution_count": 1,
   "id": "a271afff",
   "metadata": {},
   "outputs": [],
   "source": [
    "import pandas as pd\n",
    "import numpy as np\n",
    "import matplotlib.pyplot as plt\n",
    "%matplotlib inline"
   ]
  },
  {
   "cell_type": "code",
   "execution_count": 2,
   "id": "25640beb",
   "metadata": {},
   "outputs": [
    {
     "data": {
      "text/html": [
       "<div>\n",
       "<style scoped>\n",
       "    .dataframe tbody tr th:only-of-type {\n",
       "        vertical-align: middle;\n",
       "    }\n",
       "\n",
       "    .dataframe tbody tr th {\n",
       "        vertical-align: top;\n",
       "    }\n",
       "\n",
       "    .dataframe thead th {\n",
       "        text-align: right;\n",
       "    }\n",
       "</style>\n",
       "<table border=\"1\" class=\"dataframe\">\n",
       "  <thead>\n",
       "    <tr style=\"text-align: right;\">\n",
       "      <th></th>\n",
       "      <th>Survived</th>\n",
       "      <th>Age</th>\n",
       "      <th>Fare</th>\n",
       "      <th>Pclass_1</th>\n",
       "      <th>Pclass_2</th>\n",
       "      <th>Pclass_3</th>\n",
       "      <th>Sex_female</th>\n",
       "      <th>Sex_male</th>\n",
       "      <th>SibSp_0</th>\n",
       "      <th>SibSp_1</th>\n",
       "      <th>...</th>\n",
       "      <th>Parch_0</th>\n",
       "      <th>Parch_1</th>\n",
       "      <th>Parch_2</th>\n",
       "      <th>Parch_3</th>\n",
       "      <th>Parch_4</th>\n",
       "      <th>Parch_5</th>\n",
       "      <th>Parch_6</th>\n",
       "      <th>Embarked_C</th>\n",
       "      <th>Embarked_Q</th>\n",
       "      <th>Embarked_S</th>\n",
       "    </tr>\n",
       "  </thead>\n",
       "  <tbody>\n",
       "    <tr>\n",
       "      <th>0</th>\n",
       "      <td>0</td>\n",
       "      <td>22.000000</td>\n",
       "      <td>7.2500</td>\n",
       "      <td>0</td>\n",
       "      <td>0</td>\n",
       "      <td>1</td>\n",
       "      <td>0</td>\n",
       "      <td>1</td>\n",
       "      <td>0</td>\n",
       "      <td>1</td>\n",
       "      <td>...</td>\n",
       "      <td>1</td>\n",
       "      <td>0</td>\n",
       "      <td>0</td>\n",
       "      <td>0</td>\n",
       "      <td>0</td>\n",
       "      <td>0</td>\n",
       "      <td>0</td>\n",
       "      <td>0</td>\n",
       "      <td>0</td>\n",
       "      <td>1</td>\n",
       "    </tr>\n",
       "    <tr>\n",
       "      <th>1</th>\n",
       "      <td>1</td>\n",
       "      <td>38.000000</td>\n",
       "      <td>71.2833</td>\n",
       "      <td>1</td>\n",
       "      <td>0</td>\n",
       "      <td>0</td>\n",
       "      <td>1</td>\n",
       "      <td>0</td>\n",
       "      <td>0</td>\n",
       "      <td>1</td>\n",
       "      <td>...</td>\n",
       "      <td>1</td>\n",
       "      <td>0</td>\n",
       "      <td>0</td>\n",
       "      <td>0</td>\n",
       "      <td>0</td>\n",
       "      <td>0</td>\n",
       "      <td>0</td>\n",
       "      <td>1</td>\n",
       "      <td>0</td>\n",
       "      <td>0</td>\n",
       "    </tr>\n",
       "    <tr>\n",
       "      <th>2</th>\n",
       "      <td>1</td>\n",
       "      <td>26.000000</td>\n",
       "      <td>7.9250</td>\n",
       "      <td>0</td>\n",
       "      <td>0</td>\n",
       "      <td>1</td>\n",
       "      <td>1</td>\n",
       "      <td>0</td>\n",
       "      <td>1</td>\n",
       "      <td>0</td>\n",
       "      <td>...</td>\n",
       "      <td>1</td>\n",
       "      <td>0</td>\n",
       "      <td>0</td>\n",
       "      <td>0</td>\n",
       "      <td>0</td>\n",
       "      <td>0</td>\n",
       "      <td>0</td>\n",
       "      <td>0</td>\n",
       "      <td>0</td>\n",
       "      <td>1</td>\n",
       "    </tr>\n",
       "    <tr>\n",
       "      <th>3</th>\n",
       "      <td>1</td>\n",
       "      <td>35.000000</td>\n",
       "      <td>53.1000</td>\n",
       "      <td>1</td>\n",
       "      <td>0</td>\n",
       "      <td>0</td>\n",
       "      <td>1</td>\n",
       "      <td>0</td>\n",
       "      <td>0</td>\n",
       "      <td>1</td>\n",
       "      <td>...</td>\n",
       "      <td>1</td>\n",
       "      <td>0</td>\n",
       "      <td>0</td>\n",
       "      <td>0</td>\n",
       "      <td>0</td>\n",
       "      <td>0</td>\n",
       "      <td>0</td>\n",
       "      <td>0</td>\n",
       "      <td>0</td>\n",
       "      <td>1</td>\n",
       "    </tr>\n",
       "    <tr>\n",
       "      <th>4</th>\n",
       "      <td>0</td>\n",
       "      <td>35.000000</td>\n",
       "      <td>8.0500</td>\n",
       "      <td>0</td>\n",
       "      <td>0</td>\n",
       "      <td>1</td>\n",
       "      <td>0</td>\n",
       "      <td>1</td>\n",
       "      <td>1</td>\n",
       "      <td>0</td>\n",
       "      <td>...</td>\n",
       "      <td>1</td>\n",
       "      <td>0</td>\n",
       "      <td>0</td>\n",
       "      <td>0</td>\n",
       "      <td>0</td>\n",
       "      <td>0</td>\n",
       "      <td>0</td>\n",
       "      <td>0</td>\n",
       "      <td>0</td>\n",
       "      <td>1</td>\n",
       "    </tr>\n",
       "    <tr>\n",
       "      <th>...</th>\n",
       "      <td>...</td>\n",
       "      <td>...</td>\n",
       "      <td>...</td>\n",
       "      <td>...</td>\n",
       "      <td>...</td>\n",
       "      <td>...</td>\n",
       "      <td>...</td>\n",
       "      <td>...</td>\n",
       "      <td>...</td>\n",
       "      <td>...</td>\n",
       "      <td>...</td>\n",
       "      <td>...</td>\n",
       "      <td>...</td>\n",
       "      <td>...</td>\n",
       "      <td>...</td>\n",
       "      <td>...</td>\n",
       "      <td>...</td>\n",
       "      <td>...</td>\n",
       "      <td>...</td>\n",
       "      <td>...</td>\n",
       "      <td>...</td>\n",
       "    </tr>\n",
       "    <tr>\n",
       "      <th>886</th>\n",
       "      <td>0</td>\n",
       "      <td>27.000000</td>\n",
       "      <td>13.0000</td>\n",
       "      <td>0</td>\n",
       "      <td>1</td>\n",
       "      <td>0</td>\n",
       "      <td>0</td>\n",
       "      <td>1</td>\n",
       "      <td>1</td>\n",
       "      <td>0</td>\n",
       "      <td>...</td>\n",
       "      <td>1</td>\n",
       "      <td>0</td>\n",
       "      <td>0</td>\n",
       "      <td>0</td>\n",
       "      <td>0</td>\n",
       "      <td>0</td>\n",
       "      <td>0</td>\n",
       "      <td>0</td>\n",
       "      <td>0</td>\n",
       "      <td>1</td>\n",
       "    </tr>\n",
       "    <tr>\n",
       "      <th>887</th>\n",
       "      <td>1</td>\n",
       "      <td>19.000000</td>\n",
       "      <td>30.0000</td>\n",
       "      <td>1</td>\n",
       "      <td>0</td>\n",
       "      <td>0</td>\n",
       "      <td>1</td>\n",
       "      <td>0</td>\n",
       "      <td>1</td>\n",
       "      <td>0</td>\n",
       "      <td>...</td>\n",
       "      <td>1</td>\n",
       "      <td>0</td>\n",
       "      <td>0</td>\n",
       "      <td>0</td>\n",
       "      <td>0</td>\n",
       "      <td>0</td>\n",
       "      <td>0</td>\n",
       "      <td>0</td>\n",
       "      <td>0</td>\n",
       "      <td>1</td>\n",
       "    </tr>\n",
       "    <tr>\n",
       "      <th>888</th>\n",
       "      <td>0</td>\n",
       "      <td>29.699118</td>\n",
       "      <td>23.4500</td>\n",
       "      <td>0</td>\n",
       "      <td>0</td>\n",
       "      <td>1</td>\n",
       "      <td>1</td>\n",
       "      <td>0</td>\n",
       "      <td>0</td>\n",
       "      <td>1</td>\n",
       "      <td>...</td>\n",
       "      <td>0</td>\n",
       "      <td>0</td>\n",
       "      <td>1</td>\n",
       "      <td>0</td>\n",
       "      <td>0</td>\n",
       "      <td>0</td>\n",
       "      <td>0</td>\n",
       "      <td>0</td>\n",
       "      <td>0</td>\n",
       "      <td>1</td>\n",
       "    </tr>\n",
       "    <tr>\n",
       "      <th>889</th>\n",
       "      <td>1</td>\n",
       "      <td>26.000000</td>\n",
       "      <td>30.0000</td>\n",
       "      <td>1</td>\n",
       "      <td>0</td>\n",
       "      <td>0</td>\n",
       "      <td>0</td>\n",
       "      <td>1</td>\n",
       "      <td>1</td>\n",
       "      <td>0</td>\n",
       "      <td>...</td>\n",
       "      <td>1</td>\n",
       "      <td>0</td>\n",
       "      <td>0</td>\n",
       "      <td>0</td>\n",
       "      <td>0</td>\n",
       "      <td>0</td>\n",
       "      <td>0</td>\n",
       "      <td>1</td>\n",
       "      <td>0</td>\n",
       "      <td>0</td>\n",
       "    </tr>\n",
       "    <tr>\n",
       "      <th>890</th>\n",
       "      <td>0</td>\n",
       "      <td>32.000000</td>\n",
       "      <td>7.7500</td>\n",
       "      <td>0</td>\n",
       "      <td>0</td>\n",
       "      <td>1</td>\n",
       "      <td>0</td>\n",
       "      <td>1</td>\n",
       "      <td>1</td>\n",
       "      <td>0</td>\n",
       "      <td>...</td>\n",
       "      <td>1</td>\n",
       "      <td>0</td>\n",
       "      <td>0</td>\n",
       "      <td>0</td>\n",
       "      <td>0</td>\n",
       "      <td>0</td>\n",
       "      <td>0</td>\n",
       "      <td>0</td>\n",
       "      <td>1</td>\n",
       "      <td>0</td>\n",
       "    </tr>\n",
       "  </tbody>\n",
       "</table>\n",
       "<p>891 rows × 25 columns</p>\n",
       "</div>"
      ],
      "text/plain": [
       "     Survived        Age     Fare  Pclass_1  Pclass_2  Pclass_3  Sex_female  \\\n",
       "0           0  22.000000   7.2500         0         0         1           0   \n",
       "1           1  38.000000  71.2833         1         0         0           1   \n",
       "2           1  26.000000   7.9250         0         0         1           1   \n",
       "3           1  35.000000  53.1000         1         0         0           1   \n",
       "4           0  35.000000   8.0500         0         0         1           0   \n",
       "..        ...        ...      ...       ...       ...       ...         ...   \n",
       "886         0  27.000000  13.0000         0         1         0           0   \n",
       "887         1  19.000000  30.0000         1         0         0           1   \n",
       "888         0  29.699118  23.4500         0         0         1           1   \n",
       "889         1  26.000000  30.0000         1         0         0           0   \n",
       "890         0  32.000000   7.7500         0         0         1           0   \n",
       "\n",
       "     Sex_male  SibSp_0  SibSp_1  ...  Parch_0  Parch_1  Parch_2  Parch_3  \\\n",
       "0           1        0        1  ...        1        0        0        0   \n",
       "1           0        0        1  ...        1        0        0        0   \n",
       "2           0        1        0  ...        1        0        0        0   \n",
       "3           0        0        1  ...        1        0        0        0   \n",
       "4           1        1        0  ...        1        0        0        0   \n",
       "..        ...      ...      ...  ...      ...      ...      ...      ...   \n",
       "886         1        1        0  ...        1        0        0        0   \n",
       "887         0        1        0  ...        1        0        0        0   \n",
       "888         0        0        1  ...        0        0        1        0   \n",
       "889         1        1        0  ...        1        0        0        0   \n",
       "890         1        1        0  ...        1        0        0        0   \n",
       "\n",
       "     Parch_4  Parch_5  Parch_6  Embarked_C  Embarked_Q  Embarked_S  \n",
       "0          0        0        0           0           0           1  \n",
       "1          0        0        0           1           0           0  \n",
       "2          0        0        0           0           0           1  \n",
       "3          0        0        0           0           0           1  \n",
       "4          0        0        0           0           0           1  \n",
       "..       ...      ...      ...         ...         ...         ...  \n",
       "886        0        0        0           0           0           1  \n",
       "887        0        0        0           0           0           1  \n",
       "888        0        0        0           0           0           1  \n",
       "889        0        0        0           1           0           0  \n",
       "890        0        0        0           0           1           0  \n",
       "\n",
       "[891 rows x 25 columns]"
      ]
     },
     "execution_count": 2,
     "metadata": {},
     "output_type": "execute_result"
    }
   ],
   "source": [
    "data = pd.read_csv('data_cleaned.csv')\n",
    "data"
   ]
  },
  {
   "cell_type": "code",
   "execution_count": 3,
   "id": "220b85c6",
   "metadata": {},
   "outputs": [
    {
     "data": {
      "text/plain": [
       "Survived      0.0\n",
       "Age           0.0\n",
       "Fare          0.0\n",
       "Pclass_1      0.0\n",
       "Pclass_2      0.0\n",
       "Pclass_3      0.0\n",
       "Sex_female    0.0\n",
       "Sex_male      0.0\n",
       "SibSp_0       0.0\n",
       "SibSp_1       0.0\n",
       "SibSp_2       0.0\n",
       "SibSp_3       0.0\n",
       "SibSp_4       0.0\n",
       "SibSp_5       0.0\n",
       "SibSp_8       0.0\n",
       "Parch_0       0.0\n",
       "Parch_1       0.0\n",
       "Parch_2       0.0\n",
       "Parch_3       0.0\n",
       "Parch_4       0.0\n",
       "Parch_5       0.0\n",
       "Parch_6       0.0\n",
       "Embarked_C    0.0\n",
       "Embarked_Q    0.0\n",
       "Embarked_S    0.0\n",
       "dtype: float64"
      ]
     },
     "execution_count": 3,
     "metadata": {},
     "output_type": "execute_result"
    }
   ],
   "source": [
    "data.isnull().sum()/100"
   ]
  },
  {
   "cell_type": "code",
   "execution_count": 4,
   "id": "2cac537d",
   "metadata": {},
   "outputs": [],
   "source": [
    "x = data.drop(['Survived'], axis = 1)\n",
    "y = data['Survived']"
   ]
  },
  {
   "cell_type": "code",
   "execution_count": 5,
   "id": "aab098c5",
   "metadata": {},
   "outputs": [],
   "source": [
    "from sklearn.preprocessing import StandardScaler\n",
    "ss = StandardScaler()\n",
    "x = ss.fit_transform(x)"
   ]
  },
  {
   "cell_type": "code",
   "execution_count": 6,
   "id": "529bb1cb",
   "metadata": {},
   "outputs": [],
   "source": [
    "from sklearn.model_selection import train_test_split\n",
    "train_x,test_x,train_y,test_y = train_test_split(x,y, random_state = 96, stratify=y)"
   ]
  },
  {
   "cell_type": "code",
   "execution_count": 7,
   "id": "30108a5e",
   "metadata": {},
   "outputs": [],
   "source": [
    "from sklearn.neighbors import KNeighborsClassifier as KNN\n",
    "from sklearn.metrics import f1_score"
   ]
  },
  {
   "cell_type": "markdown",
   "id": "af174cf3",
   "metadata": {},
   "source": [
    "testing for k = 3"
   ]
  },
  {
   "cell_type": "code",
   "execution_count": 8,
   "id": "fda3ab4a",
   "metadata": {},
   "outputs": [
    {
     "name": "stdout",
     "output_type": "stream",
     "text": [
      "F1 score of test set is:  0.7080745341614907\n",
      "F1 score of train set is:  0.8209255533199196\n"
     ]
    }
   ],
   "source": [
    "clf = KNN(n_neighbors=3)\n",
    "\n",
    "#fitting our model\n",
    "clf.fit(train_x, train_y)\n",
    "\n",
    "#predicting over test set and calculating F1\n",
    "test_predict = clf.predict(test_x)\n",
    "test_F1 = f1_score(test_predict, test_y)\n",
    "print('F1 score of test set is: ', test_F1)\n",
    "#predicting over train set and calculating F1\n",
    "train_predict = clf.predict(train_x)\n",
    "train_F1 = f1_score(train_predict, train_y)\n",
    "print('F1 score of train set is: ', train_F1)"
   ]
  },
  {
   "cell_type": "markdown",
   "id": "e7eefcfe",
   "metadata": {},
   "source": [
    "Visualising the training F1 score and testing F1 score"
   ]
  },
  {
   "cell_type": "code",
   "execution_count": 9,
   "id": "ecc40d72",
   "metadata": {},
   "outputs": [],
   "source": [
    "def visualize(k):\n",
    "    train_F1_values = []\n",
    "    test_F1_values = []\n",
    "    \n",
    "    for i in k:\n",
    "        clf = KNN(n_neighbors=i)\n",
    "        \n",
    "        clf.fit(train_x, train_y)\n",
    "        train_predict = clf.predict(train_x)\n",
    "        train_f1 = f1_score(train_y, train_predict)\n",
    "        train_F1_values.append(train_f1)\n",
    "        \n",
    "        test_predict = clf.predict(test_x)\n",
    "        test_f1 = f1_score(test_predict, test_y)\n",
    "        test_F1_values.append(test_f1)\n",
    "        \n",
    "    return train_F1_values, test_F1_values"
   ]
  },
  {
   "cell_type": "code",
   "execution_count": 10,
   "id": "25926355",
   "metadata": {},
   "outputs": [],
   "source": [
    "K = range(1, 100)"
   ]
  },
  {
   "cell_type": "code",
   "execution_count": 11,
   "id": "8cbdda52",
   "metadata": {},
   "outputs": [],
   "source": [
    "train_f1, test_f1 = visualize(K)"
   ]
  },
  {
   "cell_type": "code",
   "execution_count": 12,
   "id": "562692ba",
   "metadata": {},
   "outputs": [
    {
     "data": {
      "text/plain": [
       "<matplotlib.legend.Legend at 0x2ae03237550>"
      ]
     },
     "execution_count": 12,
     "metadata": {},
     "output_type": "execute_result"
    },
    {
     "data": {
      "image/png": "[encoded data removed]",
      "text/plain": [
       "<Figure size 576x432 with 1 Axes>"
      ]
     },
     "metadata": {
      "needs_background": "light"
     },
     "output_type": "display_data"
    }
   ],
   "source": [
    "from pylab import rcParams\n",
    "rcParams['figure.figsize'] = 8, 6\n",
    "plt.figure(figsize = (8, 6))\n",
    "plt.plot(K, train_f1, color='red', label = 'train')\n",
    "plt.plot(K, test_f1, color = 'green', label = 'test')\n",
    "plt.xlabel('K values')\n",
    "plt.ylabel('F1_Score')\n",
    "plt.legend()"
   ]
  },
  {
   "cell_type": "markdown",
   "id": "7374a08f",
   "metadata": {},
   "source": [
    "We can see that for very low values of k the model is overfitting and for values aroung 20 the model is best fit while for\n",
    "higher values of k it is underfitting."
   ]
  },
  {
   "cell_type": "markdown",
   "id": "639dd640",
   "metadata": {},
   "source": [
    "But We are using the same model to predict for the test set so how can we be sure that the k value chosen is correct"
   ]
  },
  {
   "cell_type": "markdown",
   "id": "cc8d3f9e",
   "metadata": {},
   "source": [
    "Let us check what happens when we change the random state ie we change the test set. Since our model is already predicting for different values of k it has seen the data beforehand, So let us try to change that set and see if we get the same results"
   ]
  },
  {
   "cell_type": "code",
   "execution_count": 13,
   "id": "327ce859",
   "metadata": {},
   "outputs": [],
   "source": [
    "train_x,test_x,train_y,test_y = train_test_split(x,y, random_state = 42, stratify=y)"
   ]
  },
  {
   "cell_type": "code",
   "execution_count": 14,
   "id": "9e7b6e6b",
   "metadata": {},
   "outputs": [],
   "source": [
    "def visualize(k):\n",
    "    train_F1_values = []\n",
    "    test_F1_values = []\n",
    "    \n",
    "    for i in k:\n",
    "        clf = KNN(n_neighbors=i)\n",
    "        \n",
    "        clf.fit(train_x, train_y)\n",
    "        train_predict = clf.predict(train_x)\n",
    "        train_f1 = f1_score(train_y, train_predict)\n",
    "        train_F1_values.append(train_f1)\n",
    "        \n",
    "        test_predict = clf.predict(test_x)\n",
    "        test_f1 = f1_score(test_predict, test_y)\n",
    "        test_F1_values.append(test_f1)\n",
    "        \n",
    "    return train_F1_values, test_F1_values"
   ]
  },
  {
   "cell_type": "code",
   "execution_count": 15,
   "id": "af536239",
   "metadata": {},
   "outputs": [],
   "source": [
    "K = range(1, 100)\n",
    "train_f1, test_f1 = visualize(K)"
   ]
  },
  {
   "cell_type": "code",
   "execution_count": 16,
   "id": "35dc9a83",
   "metadata": {},
   "outputs": [
    {
     "data": {
      "text/plain": [
       "<matplotlib.legend.Legend at 0x2ae0331f790>"
      ]
     },
     "execution_count": 16,
     "metadata": {},
     "output_type": "execute_result"
    },
    {
     "data": {
      "image/png": "[encoded data removed]",
      "text/plain": [
       "<Figure size 576x432 with 1 Axes>"
      ]
     },
     "metadata": {
      "needs_background": "light"
     },
     "output_type": "display_data"
    }
   ],
   "source": [
    "from pylab import rcParams\n",
    "rcParams['figure.figsize'] = 8, 6\n",
    "plt.figure(figsize = (8, 6))\n",
    "plt.plot(K, train_f1, color='red', label = 'train')\n",
    "plt.plot(K, test_f1, color = 'green', label = 'test')\n",
    "plt.xlabel('K values')\n",
    "plt.ylabel('F1_Score')\n",
    "plt.legend()"
   ]
  },
  {
   "cell_type": "markdown",
   "id": "2711b7cc",
   "metadata": {},
   "source": [
    "This time we can see that the best fit occurs somewhere around 25 whereas earlier it was around 20"
   ]
  },
  {
   "cell_type": "code",
   "execution_count": 17,
   "id": "61cf0f01",
   "metadata": {},
   "outputs": [],
   "source": [
    "train_x,test_x,train_y,test_y = train_test_split(x,y, random_state = 56, stratify=y)"
   ]
  },
  {
   "cell_type": "code",
   "execution_count": 18,
   "id": "a61d31be",
   "metadata": {},
   "outputs": [],
   "source": [
    "K = range(1, 100)\n",
    "train_f1, test_f1 = visualize(K)"
   ]
  },
  {
   "cell_type": "code",
   "execution_count": 19,
   "id": "6a139a50",
   "metadata": {},
   "outputs": [
    {
     "data": {
      "text/plain": [
       "<matplotlib.legend.Legend at 0x2ae05394a60>"
      ]
     },
     "execution_count": 19,
     "metadata": {},
     "output_type": "execute_result"
    },
    {
     "data": {
      "image/png": "[encoded data removed]",
      "text/plain": [
       "<Figure size 576x432 with 1 Axes>"
      ]
     },
     "metadata": {
      "needs_background": "light"
     },
     "output_type": "display_data"
    }
   ],
   "source": [
    "from pylab import rcParams\n",
    "rcParams['figure.figsize'] = 8, 6\n",
    "plt.figure(figsize = (8, 6))\n",
    "plt.plot(K, train_f1, color='red', label = 'train')\n",
    "plt.plot(K, test_f1, color = 'green', label = 'test')\n",
    "plt.xlabel('K values')\n",
    "plt.ylabel('F1_Score')\n",
    "plt.legend()"
   ]
  },
  {
   "cell_type": "markdown",
   "id": "021982ce",
   "metadata": {},
   "source": [
    "This time we get completely different result with multiple vale of k satisfying the best fit"
   ]
  },
  {
   "cell_type": "markdown",
   "id": "d3b5607e",
   "metadata": {},
   "source": [
    "So different set of test data can alter the result."
   ]
  }
 ],
 "metadata": {
  "kernelspec": {
   "display_name": "Python 3",
   "language": "python",
   "name": "python3"
  },
  "language_info": {
   "codemirror_mode": {
    "name": "ipython",
    "version": 3
   },
   "file_extension": ".py",
   "mimetype": "text/x-python",
   "name": "python",
   "nbconvert_exporter": "python",
   "pygments_lexer": "ipython3",
   "version": "3.8.8"
  }
 },
 "nbformat": 4,
 "nbformat_minor": 5
}
